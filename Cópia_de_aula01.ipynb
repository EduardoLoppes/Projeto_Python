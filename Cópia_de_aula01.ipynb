{
  "cells": [
    {
      "cell_type": "markdown",
      "metadata": {
        "id": "view-in-github",
        "colab_type": "text"
      },
      "source": [
        "<a href=\"https://colab.research.google.com/github/EduardoLoppes/Projeto_Python/blob/main/C%C3%B3pia_de_aula01.ipynb\" target=\"_parent\"><img src=\"https://colab.research.google.com/assets/colab-badge.svg\" alt=\"Open In Colab\"/></a>"
      ]
    },
    {
      "cell_type": "markdown",
      "metadata": {
        "id": "H_lV9nguMVMC"
      },
      "source": [
        "# Aula01 - Introdução ao Python\n",
        "\n",
        "## Python\n",
        "\n",
        "Python é uma linguagem de programação interpretada, orientada a objetos, de alto nível e com semântica dinâmica. A simplicidade do python reduz a manutenção de um programa.\n",
        "A linguagem suporta módulos e pacotes, que encoraja a modularização e o reuso de códigos.\n",
        "\n",
        "É uma das linguagens  que mais tem crescido devido a sua compatibilidade e capacidade de auxiliar outras linguagens, é também um das  linguagens mais populares entre a comundade de análise de dados e a comunidade cientifica.\n",
        "\n",
        "## História do Python\n",
        "\n",
        "A linguagem Python foi criada em 1990 por Guido Van Rossum no Centro de Matemática Stichting (CWI - http://www.cwi.nl) na Holanda como sucessora da linguagem ABC. Guido é lembrado como o principal autor do Python, mas outros programadores ajudaram com muitas contribuições.\n",
        "\n",
        "A linguagem ABC foi desenhada para o uso de não programadores, mas logo de início mostrou certas limitações e restrições, a grande reclamação era a presença de regras arbitrárias que geralmente eram utilizadas em linguagens de baixo nível.\n",
        "\n",
        "O Python surigiu para que fosse uma linguagem simples que possuísse algumas das melhores propriedades da linguagem ABC. Listas, dicionários, declarações básicas e uso obrigatório de identação diferenciam a linguagem Python da linguagem ABC.\n",
        "\n",
        "Em 1995, Guido continuou seu trabalho em Python na Corporation for National Research Initiatives (CNRI, http://cnri.reston.va.us). Em 2000 o time de desenvolvimento da linguagem foram para a BeOpen Python Labs (http://beopen.com), no mesmo ano mudaram-se para a Digital Creations, hoje Zope Corporation (http://www.zope.org).\n",
        "\n",
        "Em 2001 foi fundada a Python Software Fundation (PSF - http://www.python.org/psf/), uma organização sem fins lucrativos fundada para manter a lingaugem e hoje detem sua propriedade intelectual.\n",
        "\n",
        "Todos os lançamentos de novos releases da linguagem Python são de código aberto."
      ]
    },
    {
      "cell_type": "markdown",
      "metadata": {
        "id": "Ha85KzPVMVMF"
      },
      "source": [
        "![Python](img/python.jpeg)"
      ]
    },
    {
      "cell_type": "markdown",
      "metadata": {
        "id": "wTGHD_IrMVMF"
      },
      "source": [
        "## Interpretador\n",
        "\n",
        "Você já deve ter ouvido falar que a linguagem Python é interpretada ou uma linguagem de script. em certo sentido pode-se afirmar que é uma linguagem interpretada, mas na verdade a forma de execução de programas python atualmente assemelha-se a forma de execução da linguagem Java.\n",
        "\n",
        "O interpretador faz a tradução em tempo real para código de máquina, ou seja, em tempo de execução. Já um compilador traduz o programa inteiro em código de máquina em uma única vez, gerando um relatório de erros caso existam ou gerando o programa que pode ser rodado (executável).\n",
        "\n",
        "O  Python é uma linguagem interpretada mas como o Java, passa por um processo de compilação gerando um bytecode e depois é interpretado por uma máquina virtual.\n",
        "\n",
        "## É possível compilar o Python ?\n",
        "\n",
        "Existem implementações de compiladores para Python como o Cpython, Cython, Jython, IronPython ou PyPy. A diferença entre elas é o compilador.\n",
        "\n",
        "o Cpython é o compilador oficial da linguagem Python quando você a utiliza por padrão. O Cython converte a linguagem Python para C++e utiliza o compilador desta linguagem para gerar o executável, mas para ser eficiente deve adaptar o código python original.\n",
        "\n",
        "O Jython gera bytecode a partir do Python para ser executado na JVM (Java Virtual Machine) e o IronPython em uma máquina virtual .Net.\n",
        "\n",
        "O PyPy é uma implmentação escrita em python que possui uma Virtual Machine Python sendo mais veloz que o CPython origianl e vem com a tecnologia JIT (Just in Time) que já traduz o código fonte em linguagem de máquina.\n",
        "\n",
        "## Modo Script ou Interativo\n",
        "\n",
        "Para utilizar o modo interativo você deve abrir o terminal do seu sistema operacional e rodar o python. Por exemplo:\n",
        "\n",
        "**C:\\python**\n",
        "\n",
        "Você terá acesso ao prompt do Python para a digitação de suas instruções:\n",
        "\n",
        "![Prompt Python](img/python_prompt.jpg)\n",
        "\n",
        "No modo script você pode utilizar qualquer editor de texto para escrever o seu código python gerando um arquivo com a extensão .py. Pode utilizar qualquer IDE que desejar como o PyCharm, VSCode, Spyder entre outras existentes no mercado.\n"
      ]
    },
    {
      "cell_type": "code",
      "execution_count": null,
      "metadata": {
        "id": "ZYMP8CCbMVMH"
      },
      "outputs": [],
      "source": [
        "for x in range(5):\n",
        "    print(x)"
      ]
    },
    {
      "cell_type": "markdown",
      "metadata": {
        "id": "_ijcoDNnMVMI"
      },
      "source": [
        "## Introdução as declarações em Python\n",
        "\n",
        "faremos uma rápida visão geral das declarações do Python. Esta palestra enfatizará as diferenças entre Python e outros idiomas, como o C++. \n",
        "\n",
        "Existem duas razões pelas quais tomamos essa abordagem para aprender o contexto das declarações de Python:\n",
        "\n",
        "    1) Se você vem de uma linguagem diferente, isso acelerará rapidamente sua compreensão sobre o Python. \n",
        "\n",
        "    2) Aprender sobre declarações permitirá que você possa ler outras linguagens com mais facilidade no futuro.\n",
        "\n",
        "# Python vs outras linguagens\n",
        "\n",
        "Vamos criar uma declaração simples que diga: Se a é maior que b, atribua 2 a \"a\" e 4 a \"b\"\n",
        "\n",
        "Veja essas duas afirmações if (a frente veremos melhor a sintaxe do if):\n",
        "\n",
        "Outras Linguagens:\n",
        "\n",
        "if (a > b) {\n",
        "    a=2;\n",
        "    b=4;\n",
        "} \n",
        "\n",
        "em Python:\n",
        "\n",
        "if a > b:\n",
        "    a=2\n",
        "    b=4\n",
        "\n",
        "Você notará que o Python está menos confuso e muito mais legível do que a primeira versão.\n",
        "\n",
        "Como o Python gerencia isso ?\n",
        "\n",
        "Vejamos as diferenças:\n",
        "    O Python se livra de () - parenteses e {} - chaves incorporando dois fatores principais: os \":\"  - dois pontos e os espaços em branco.\n",
        "\n",
        "    A declaração é terminada com dois pontos e o espaço em branco é usado (recuo) para descrever o que ocorre no caso da declaração.\n",
        "    \n",
        "    Outra grande diferença é a falta de ponto e vírgula em Python. Eles são usados p​ ara denotar terminações de declaração em muitos outros idiomas, mas em Python, o final de uma linha é o mesmo que o final de uma declaração.\n",
        "    \n",
        "    Por fim, para terminar esta breve visão geral das diferenças, vamos examinar mais de perto a sintaxe de indentação em Python vs outras linguagens.\n",
        "\n",
        "# Indentação\n",
        "\n",
        "O Python é fortemente impulsionado por indentação de código e espaço em branco. Isso significa que a legibilidade do código é uma parte essencial do design da linguagem.\n",
        "\n"
      ]
    },
    {
      "cell_type": "markdown",
      "metadata": {
        "id": "aWVEBvyeMVMJ"
      },
      "source": [
        "## Números\n",
        "\n",
        "# Tipos de números\n",
        "\n",
        "Python tem vários \"tipos\" de números (literais numéricos). Nós nos concentraremos principalmente em números inteiros e números de ponto flutuante.\n",
        "\n",
        "Inteiros são apenas números inteiros, positivos ou negativos. Por exemplo: 2 e -2 são exemplos de números inteiros.\n",
        "\n",
        "Os números de pontos flutuantes em Python são notáveis porque eles têm um ponto decimal neles, ou usam uma exponencial (e) para definir o número. Por exemplo, 2.0 e -2.1 são exemplos de números de ponto flutuante. 4E2 (4 vezes 10 para o poder de 2) também é um exemplo de um número de ponto flutuante em Python.\n",
        "\n",
        "Ao longo deste curso, trabalharemos principalmente com números inteiros ou tipos simples de números de flutuação.\n",
        "\n",
        "Aqui está uma tabela dos dois tipos principais que passaremos a maior parte do tempo trabalhando com alguns exemplos:\n",
        "\n",
        "|Exemplo   |Tipo   |\n",
        "|---|---|\n",
        "|1,2, -5, 1000   | números inteiros  |\n",
        "|1.2, -0.5, 2e2. 3E2 | números ponto flutuante  |\n",
        "\n",
        "\n",
        "# Operadores Matemáticos\n",
        "\n",
        "|Exemplo   |Descrição   | Exemplo |\n",
        "|---|---|---|\n",
        "| + | Soma  | 5+5 = 10 |\n",
        "| - | Substração  | 7-2 = 5 |\n",
        "| * | Multiplicação  | 2*2 = 4 |\n",
        "| / | Divisão  | 4/2 = 2 |\n",
        "| % | Resto  | 10%3 = 1 |\n",
        "| ** | Potência  | 4**2 = 16 |\n",
        "\n",
        "Exemplos:"
      ]
    },
    {
      "cell_type": "code",
      "execution_count": null,
      "metadata": {
        "id": "pd3qxDbAMVMJ"
      },
      "outputs": [],
      "source": [
        "2+1 #soma"
      ]
    },
    {
      "cell_type": "code",
      "execution_count": null,
      "metadata": {
        "id": "k1gQLzIDMVMJ"
      },
      "outputs": [],
      "source": [
        "2-1 #substração"
      ]
    },
    {
      "cell_type": "code",
      "execution_count": null,
      "metadata": {
        "id": "iIK3FK7VMVMK"
      },
      "outputs": [],
      "source": [
        "2*2 #multiplicação"
      ]
    },
    {
      "cell_type": "code",
      "execution_count": null,
      "metadata": {
        "id": "3Yhn0mlHMVMK"
      },
      "outputs": [],
      "source": [
        "3/2 #divisão"
      ]
    },
    {
      "cell_type": "code",
      "execution_count": null,
      "metadata": {
        "id": "EpoZALzRMVMK"
      },
      "outputs": [],
      "source": [
        "3.0/2 #divisão com um nro float "
      ]
    },
    {
      "cell_type": "code",
      "execution_count": null,
      "metadata": {
        "id": "skI5eDTmMVMK"
      },
      "outputs": [],
      "source": [
        "3/2.0 #funciona com qualquer combinação"
      ]
    },
    {
      "cell_type": "code",
      "execution_count": null,
      "metadata": {
        "id": "PvKQxhiXMVML"
      },
      "outputs": [],
      "source": [
        "2**3 #potência"
      ]
    },
    {
      "cell_type": "code",
      "execution_count": null,
      "metadata": {
        "id": "F7gopckHMVML"
      },
      "outputs": [],
      "source": [
        "2 + 10 * 10 + 3 #ordem dos operadores igual na matemática"
      ]
    },
    {
      "cell_type": "code",
      "execution_count": null,
      "metadata": {
        "id": "nfS92AKQMVML"
      },
      "outputs": [],
      "source": [
        "(2+10) * (10+3) #uso de parenteses para definir a ordem no calculo."
      ]
    },
    {
      "cell_type": "markdown",
      "metadata": {
        "id": "SysM6yKlMVML"
      },
      "source": [
        "## Atribuição de Variáveis\n",
        "\n",
        "Agora que vimos como usar números em Python como calculadora, vejamos como podemos atribuir nomes e criar variáveis.\n",
        "\n",
        "Usamos um único sinal de igual para atribuir rótulos às variáveis. Vejamos alguns exemplos de como podemos fazer isso."
      ]
    },
    {
      "cell_type": "code",
      "execution_count": null,
      "metadata": {
        "id": "RvxR3SOtMVML"
      },
      "outputs": [],
      "source": [
        "a=5 #atribuição"
      ]
    },
    {
      "cell_type": "markdown",
      "metadata": {
        "id": "DSBgOIxWMVMM"
      },
      "source": [
        "Agora, eu chamarmos \"a\" no meu script python, a linguagem tratará isso como o número 5"
      ]
    },
    {
      "cell_type": "code",
      "execution_count": null,
      "metadata": {
        "id": "UuHnxscwMVMM"
      },
      "outputs": [],
      "source": [
        "a+a"
      ]
    },
    {
      "cell_type": "markdown",
      "metadata": {
        "id": "Dlm3c2kRMVMM"
      },
      "source": [
        "O que acontece na redefinição ? Python nos deixa escrever sobre os valores anterior ?"
      ]
    },
    {
      "cell_type": "code",
      "execution_count": null,
      "metadata": {
        "id": "OPNAXfAKMVMM"
      },
      "outputs": [],
      "source": [
        "a = 10 #sobrescrever"
      ]
    },
    {
      "cell_type": "code",
      "execution_count": null,
      "metadata": {
        "id": "3BXLRRKXMVMM"
      },
      "outputs": [],
      "source": [
        "a #checando"
      ]
    },
    {
      "cell_type": "code",
      "execution_count": null,
      "metadata": {
        "id": "pKhdjHN4MVMN"
      },
      "outputs": [],
      "source": [
        "a = a + a #usando a para definir a"
      ]
    },
    {
      "cell_type": "markdown",
      "metadata": {
        "id": "RL97DS9gMVMN"
      },
      "source": [
        "Os nomes que você usa ao criar esses rótulos precisam seguir algumas regras:\n",
        "\n",
        "1. Os nomes não podem começar com um número.\n",
        "\n",
        "2. Não pode haver espaços no nome. Use _ em vez disso. 3. Não é possível usar nenhum desses símbolos: '\", <> /? | \\ ()! @ # $% ^ & * ~ - + 3. É considerada a melhor prática (PEP8) que os nomes são minúsculos.\n",
        "\n",
        "Usar nomes de variáveis pode ser uma maneira muito útil de acompanhar diferentes variáveis em Python. Por exemplo:"
      ]
    },
    {
      "cell_type": "code",
      "execution_count": null,
      "metadata": {
        "id": "DxV-Pb_vMVMN"
      },
      "outputs": [],
      "source": [
        "#usar nomes de objetos para manter uma melhor relação com o que esta acontecendo\n",
        "my_income = 100\n",
        "tax_rate=0.1\n",
        "my_taxes = my_income*tax_rate"
      ]
    },
    {
      "cell_type": "code",
      "execution_count": null,
      "metadata": {
        "id": "c6NGzrz6MVMN"
      },
      "outputs": [],
      "source": [
        "my_taxes #mostra  as taxas"
      ]
    },
    {
      "cell_type": "markdown",
      "metadata": {
        "id": "HNosVrY4MVMN"
      },
      "source": [
        "Então, o que aprendemos? Aprendemos alguns dos conceitos básicos dos números emPython. Também aprendemos a fazer aritmética e usar Python como uma calculadora básica. Em seguida, o envolvemos com o aprendizado sobre a atribuição variável em Python.\n",
        "\n",
        "Em seguida, aprenderemos sobre Strings!"
      ]
    },
    {
      "cell_type": "markdown",
      "metadata": {
        "id": "ZgOvmRvmMVMO"
      },
      "source": [
        "## Strings\n",
        "\n",
        "As strings são usadas em Python para registrar informações de texto, como nome. As cordas em Python são na verdade uma seqüência, o que basicamente significa que o Python acompanha cada elemento da seqüência de caracteres como uma seqüência. Por exemplo, Python entende a string \"hello\" como uma seqüência de letras em uma ordem específica. Isso significa que poderemos usar a indexação para pegar letras particulares (como a primeira letra ou a última letra).\n",
        "\n",
        "Essa idéia de uma seqüência é importante em Python e nós vamos abordá-la mais tarde.\n",
        "\n",
        "Nesta palestra, aprenderemos os seguintes tópicos:\n",
        "\n",
        "1. Criando Strings\n",
        "\n",
        "2. Impressão de coStringsrdas\n",
        "\n",
        "3. Indexação e corte de strings\n",
        "\n",
        "4. Propriedades da Cadeia de Caracteres\n",
        "\n",
        "5. Métodos de Strings\n",
        "\n",
        "6. Formatação de impressão\n",
        "\n",
        "# Criando uma String\n",
        "\n",
        "Para criar uma string em Python, você precisa usar aspas simples ou aspas duplas. Por exemplo:"
      ]
    },
    {
      "cell_type": "code",
      "execution_count": null,
      "metadata": {
        "id": "L0KHch4CMVMO"
      },
      "outputs": [],
      "source": [
        "#uma palavra\n",
        "'hello'"
      ]
    },
    {
      "cell_type": "code",
      "execution_count": null,
      "metadata": {
        "id": "T_JxtdauMVMO"
      },
      "outputs": [],
      "source": [
        "#uma frase inteira\n",
        "'This is also a string'"
      ]
    },
    {
      "cell_type": "code",
      "execution_count": null,
      "metadata": {
        "id": "gTnKFNYlMVMO"
      },
      "outputs": [],
      "source": [
        "#também é possível com aspas duplas\n",
        "\"string built with double quotes\""
      ]
    },
    {
      "cell_type": "markdown",
      "metadata": {
        "id": "QK7G0CXiMVMP"
      },
      "source": [
        "## Imprimindo uma String\n",
        "\n",
        "Usando o Jupyter Notebook com apenas uma seqüência de caracteres em uma célula emitirá automaticamente cadeias de caracteres, mas a maneira correta de exibir cadeias na sua saída é usando uma função de impressão."
      ]
    },
    {
      "cell_type": "code",
      "execution_count": null,
      "metadata": {
        "id": "2-taisdUMVMP"
      },
      "outputs": [],
      "source": [
        "#podemos simplesmente declarar uma string\n",
        "'Hello World'"
      ]
    },
    {
      "cell_type": "code",
      "execution_count": null,
      "metadata": {
        "id": "EdZSwqfuMVMP"
      },
      "outputs": [],
      "source": [
        "#note que podemos imprimir várias strings assim\n",
        "'Hello World 1'\n",
        "'Hello World 2'"
      ]
    },
    {
      "cell_type": "markdown",
      "metadata": {
        "id": "bCNzk0Q7MVMP"
      },
      "source": [
        "Mas a maneira correta (inclusive utilizando IDE's) é utilizar o método print()."
      ]
    },
    {
      "cell_type": "code",
      "execution_count": null,
      "metadata": {
        "id": "dyyn-dbyMVMP"
      },
      "outputs": [],
      "source": [
        "print('Hello World 1')\n",
        "print('Hello World 2')\n",
        "print('Use \\n to print a new line')\n",
        "print('\\n')\n",
        "print('See what I mean?')"
      ]
    },
    {
      "cell_type": "markdown",
      "metadata": {
        "id": "oV_mCMtTMVMQ"
      },
      "source": [
        "Nós também podemos usar uma função chamada len() para verificar o comprimento de uma string!"
      ]
    },
    {
      "cell_type": "code",
      "execution_count": null,
      "metadata": {
        "id": "thIVa5KeMVMQ"
      },
      "outputs": [],
      "source": [
        "len('Hello World')"
      ]
    },
    {
      "cell_type": "markdown",
      "metadata": {
        "id": "xGcAO2DtMVMQ"
      },
      "source": [
        "## Indexação em Strings\n",
        "\n",
        "Sabemos que as strings são uma seqüência, o que significa que o Python pode usar índices para chamar partes da seqüência. Vamos aprender como isso funciona.\n",
        "\n",
        "Em Python, usamos colchetes [] após um objeto para chamar seu índice. \n",
        "\n",
        "Devemos também notar que a indexação começa em 0 para Python. Vamos criar um novo objeto chamado \"s\" e a caminharmos através de alguns exemplos de indexação."
      ]
    },
    {
      "cell_type": "code",
      "execution_count": null,
      "metadata": {
        "id": "8PZIwuJuMVMQ"
      },
      "outputs": [],
      "source": [
        "#define \"s\" como uma string\n",
        "s = 'Hello World'"
      ]
    },
    {
      "cell_type": "code",
      "execution_count": null,
      "metadata": {
        "id": "z5p3F7GjMVMQ"
      },
      "outputs": [],
      "source": [
        "#checa \n",
        "a"
      ]
    },
    {
      "cell_type": "code",
      "execution_count": null,
      "metadata": {
        "id": "CcwLAOrdMVMQ"
      },
      "outputs": [],
      "source": [
        "#imprime o conteudo do objeto\n",
        "print(a)"
      ]
    },
    {
      "cell_type": "markdown",
      "metadata": {
        "id": "2kX1rPdFMVMR"
      },
      "source": [
        "Ok! Vamos verificar o conteúdo da String de forma indexada."
      ]
    },
    {
      "cell_type": "code",
      "execution_count": null,
      "metadata": {
        "id": "kJQKFqyKMVMR"
      },
      "outputs": [],
      "source": [
        "#Mostra o primeiro elemento (neste caso uma letra)\n",
        "s[0]"
      ]
    },
    {
      "cell_type": "code",
      "execution_count": null,
      "metadata": {
        "id": "lA5llwdnMVMR"
      },
      "outputs": [],
      "source": [
        "#posicao 1\n",
        "s[1]"
      ]
    },
    {
      "cell_type": "markdown",
      "metadata": {
        "id": "K-3Md2WaMVMR"
      },
      "source": [
        "Podemos usar um \":\" para executar um corte que pega tudo até um ponto designado. Por exemplo:"
      ]
    },
    {
      "cell_type": "code",
      "execution_count": null,
      "metadata": {
        "id": "aQja9nv0MVMR"
      },
      "outputs": [],
      "source": [
        "# Retorna todos elementos a partir do elemento de indice 1\n",
        "s[1:]"
      ]
    },
    {
      "cell_type": "code",
      "execution_count": null,
      "metadata": {
        "id": "WvQbcwgTMVMS"
      },
      "outputs": [],
      "source": [
        "# repare que não houve mudanças no primeiro elemento [0]\n",
        "s[0]"
      ]
    },
    {
      "cell_type": "code",
      "execution_count": null,
      "metadata": {
        "id": "s-pbSufPMVMS"
      },
      "outputs": [],
      "source": [
        "# retorna utdo até o elemento de índice 3 (não incluso)\n",
        "s[:3]"
      ]
    },
    {
      "cell_type": "markdown",
      "metadata": {
        "id": "A_9oN9oQMVMS"
      },
      "source": [
        "Observe o corte acima. Aqui, estamos dizendo ao Python que pegue tudo de 0 a 3. Não inclui o 3º índice. Você notará muito isso em Python, onde as declarações e geralmente são no contexto \"até, mas não incluindo\"."
      ]
    },
    {
      "cell_type": "code",
      "execution_count": null,
      "metadata": {
        "id": "KLFcTUtrMVMS"
      },
      "outputs": [],
      "source": [
        "#tudo\n",
        "s[:]"
      ]
    },
    {
      "cell_type": "markdown",
      "metadata": {
        "id": "qu5HyPzzMVMS"
      },
      "source": [
        "Também podemos usar indexação negativa para retroceder."
      ]
    },
    {
      "cell_type": "code",
      "execution_count": null,
      "metadata": {
        "id": "BMqnnhSiMVMS"
      },
      "outputs": [],
      "source": [
        "# Última letra (um índice antes do 0, então ele começa da parte de trás)\n",
        "s[-1]"
      ]
    },
    {
      "cell_type": "code",
      "execution_count": null,
      "metadata": {
        "id": "rNOVmvvuMVMT"
      },
      "outputs": [],
      "source": [
        "# Pega tudo, menos a última letra\n",
        "s[:-1]"
      ]
    },
    {
      "cell_type": "markdown",
      "metadata": {
        "id": "pSrW5dUiMVMT"
      },
      "source": [
        "Também podemos usar notação de índice e fatia para capturar elementos de uma seqüência com espaçamentos (o espaçamento padrão é 1). \n",
        "\n",
        "Por exemplo, podemos usar dois dois pontos em uma linha e, em seguida, um número que especifica a freqüência para capturar elementos. Por exemplo:"
      ]
    },
    {
      "cell_type": "code",
      "execution_count": null,
      "metadata": {
        "id": "pOlolvVzMVMT"
      },
      "outputs": [],
      "source": [
        "# Pega tudo, de 1 em 1\n",
        "s[::1]"
      ]
    },
    {
      "cell_type": "code",
      "execution_count": null,
      "metadata": {
        "id": "0MYbkI9QMVMT"
      },
      "outputs": [],
      "source": [
        "# Pega tudo, mas os espaçamentos são de 2 em 2\n",
        "s[::2]"
      ]
    },
    {
      "cell_type": "code",
      "execution_count": null,
      "metadata": {
        "id": "PC6CGtimMVMT"
      },
      "outputs": [],
      "source": [
        "# Pega tudo, mas com passos negativos, de trás para frente.\n",
        "s[::-1]"
      ]
    },
    {
      "cell_type": "markdown",
      "metadata": {
        "id": "DodaRl9aMVMU"
      },
      "source": [
        "## Propriedades das Strings\n",
        "\n",
        "É importante notar que as strings têm uma propriedade importante conhecida como imutabilidade. Isso significa que, uma vez que uma string é criada, os elementos nele não podem ser alterados ou substituídos. Por exemplo:"
      ]
    },
    {
      "cell_type": "code",
      "execution_count": null,
      "metadata": {
        "id": "mOsDqwvyMVMU"
      },
      "outputs": [],
      "source": [
        "#mostra o conteudo de \"s\"\n",
        "s"
      ]
    },
    {
      "cell_type": "code",
      "execution_count": null,
      "metadata": {
        "id": "KQqFtFCpMVMU"
      },
      "outputs": [],
      "source": [
        "# Vamos tentar mudar a primeira letra para 'x'\n",
        "s[0] = 'x'"
      ]
    },
    {
      "cell_type": "markdown",
      "metadata": {
        "id": "Yg3LrX6xMVMU"
      },
      "source": [
        "O código acima incorreu em um erro de execução devido a propriedade da imutabilidade.\n",
        "\n",
        "Observe como o erro nos diz diretamente o que não podemos fazer, alterar a atribuição do item!\n",
        "\n",
        "Algo que podemos fazer é concatenar strings!"
      ]
    },
    {
      "cell_type": "code",
      "execution_count": null,
      "metadata": {
        "id": "lcfo0FaGMVMU"
      },
      "outputs": [],
      "source": [
        "#Concatenando o conteudo de \"s\" com uma string e alterando seu conteúdo\n",
        "s = s+ \" conatenate me!\""
      ]
    },
    {
      "cell_type": "code",
      "execution_count": null,
      "metadata": {
        "id": "v-zy46V2MVMU"
      },
      "outputs": [],
      "source": [
        "print(s)"
      ]
    },
    {
      "cell_type": "code",
      "execution_count": null,
      "metadata": {
        "id": "pTTagor2MVMV"
      },
      "outputs": [],
      "source": [
        "s"
      ]
    },
    {
      "cell_type": "markdown",
      "metadata": {
        "id": "wPozA_J2MVMV"
      },
      "source": [
        "Podemos utilizar o símbolo da multiplicação para criar repetições!"
      ]
    },
    {
      "cell_type": "code",
      "execution_count": null,
      "metadata": {
        "id": "HSNcU9m9MVMV"
      },
      "outputs": [],
      "source": [
        "letter='z'"
      ]
    },
    {
      "cell_type": "code",
      "execution_count": null,
      "metadata": {
        "id": "0wvQbd3yMVMV"
      },
      "outputs": [],
      "source": [
        "letter*10"
      ]
    },
    {
      "cell_type": "markdown",
      "metadata": {
        "id": "dHKEqBQxMVMV"
      },
      "source": [
        "## Métodos embutidos em Strings\n",
        "\n",
        "Os objetos em Python geralmente possuem métodos internos. Esses métodos são funções dentro do objeto (aprenderemos sobre isso em muito mais profundidade depois) que podem executar ações ou comandos no próprio objeto.\n",
        "\n",
        "Chamamos métodos com um ponto e depois o nome do método. Os métodos estão na forma: \n",
        "\n",
        "objeto.método(parâmetros)\n",
        "\n",
        "\n",
        "Onde os parâmetros são argumentos extras que podemos passar para o método. \n",
        "\n",
        "Não se preocupe se os detalhes não fazem 100% de sentido agora. Mais tarde, criaremos nossos próprios objetos e funções!\n",
        "\n",
        "Aqui estão alguns exemplos de métodos internos em strings:"
      ]
    },
    {
      "cell_type": "code",
      "execution_count": null,
      "metadata": {
        "id": "V3I9ycjgMVMW"
      },
      "outputs": [],
      "source": [
        "#coloca texto em caixa alta\n",
        "s.upper()"
      ]
    },
    {
      "cell_type": "code",
      "execution_count": null,
      "metadata": {
        "id": "E4tnPxnHMVMW"
      },
      "outputs": [],
      "source": [
        "#coloca o texto em caixa baixa\n",
        "s.lower()"
      ]
    },
    {
      "cell_type": "code",
      "execution_count": null,
      "metadata": {
        "id": "twsylBVJMVMW"
      },
      "outputs": [],
      "source": [
        "#divide uma string nos espaços em branco (este é o padrão)\n",
        "s.split()"
      ]
    },
    {
      "cell_type": "code",
      "execution_count": null,
      "metadata": {
        "id": "rYBUUdhoMVMX"
      },
      "outputs": [],
      "source": [
        "# Divide em um elemento específico \n",
        "#(não inclui o elemento que foi dividido)\n",
        "s.split('W')"
      ]
    },
    {
      "cell_type": "code",
      "execution_count": null,
      "metadata": {
        "id": "sG0uErzEMVMX"
      },
      "outputs": [],
      "source": [
        "# retorna a string com a primeira letra maiuscula\n",
        "s.capitalize()"
      ]
    },
    {
      "cell_type": "code",
      "execution_count": null,
      "metadata": {
        "id": "JHR9WYN0MVMX"
      },
      "outputs": [],
      "source": [
        "#informa quantas vezes ua caractere (ou sequencia) aparece na string\n",
        "s.count('l')"
      ]
    },
    {
      "cell_type": "code",
      "execution_count": null,
      "metadata": {
        "id": "cnNupBy7MVMX"
      },
      "outputs": [],
      "source": [
        "#verifica se uma sring inicia com determina sequencia\n",
        "s.startswith(\"Hel\")"
      ]
    },
    {
      "cell_type": "code",
      "execution_count": null,
      "metadata": {
        "id": "eT2h1cidMVMX"
      },
      "outputs": [],
      "source": [
        "#verifica se uma string termina com uma determinada sequencia\n",
        "s.endswith('rld')"
      ]
    },
    {
      "cell_type": "code",
      "execution_count": null,
      "metadata": {
        "id": "Mo1j6dNZMVMY"
      },
      "outputs": [],
      "source": [
        "#verifica se a string possui algum conteúdo alfanumerico (letra e número)\n",
        "e='!@#$%'\n",
        "e.isalnum()"
      ]
    },
    {
      "cell_type": "code",
      "execution_count": null,
      "metadata": {
        "id": "wQ-uACTfMVMY"
      },
      "outputs": [],
      "source": [
        "#verifica se a string possui apenas conteúdo alfabético\n",
        "s.isalpha()"
      ]
    },
    {
      "cell_type": "code",
      "execution_count": null,
      "metadata": {
        "id": "ME-x3sWDMVMY"
      },
      "outputs": [],
      "source": [
        "#verifica se todas as letras de uma string são maiusculas\n",
        "e=\"TESTE\"\n",
        "e.isupper()"
      ]
    },
    {
      "cell_type": "code",
      "execution_count": null,
      "metadata": {
        "id": "sQIAnTDEMVMY"
      },
      "outputs": [],
      "source": [
        "#verifica se todas as letras de uma string são minusculas\n",
        "e=\"teste\"\n",
        "e.islower()"
      ]
    },
    {
      "cell_type": "code",
      "execution_count": null,
      "metadata": {
        "id": "UrwvMyicMVMZ"
      },
      "outputs": [],
      "source": [
        "#Inverte o conteúdo da string (maiusculo -> minusculo)\n",
        "k='Python'\n",
        "k.swapcase()"
      ]
    },
    {
      "cell_type": "code",
      "execution_count": null,
      "metadata": {
        "id": "7GpifsH7MVMZ"
      },
      "outputs": [],
      "source": [
        "#Converte para maiusculo todas as primeiras letras de cada palavra da string\n",
        "k=\"apostila de python\"\n",
        "k.title()"
      ]
    },
    {
      "cell_type": "code",
      "execution_count": null,
      "metadata": {
        "id": "Cv2MCgQxMVMZ"
      },
      "outputs": [],
      "source": [
        "#substitui na string o trecho S1 pelo trecho S2\n",
        "k = 'Apostila Teste'\n",
        "print(k.replace('Teste', 'de Python'))\n"
      ]
    },
    {
      "cell_type": "code",
      "execution_count": null,
      "metadata": {
        "id": "Bj8bv3BSMVMa"
      },
      "outputs": [],
      "source": [
        "#retorna o índice da primeira ocorrência de um determinado caractere\n",
        "#na string. Se o caractere não estiver na string retorna -1\n",
        "k='Apostila de Python'\n",
        "print(k)\n",
        "k.find('h')\n"
      ]
    },
    {
      "cell_type": "code",
      "execution_count": null,
      "metadata": {
        "id": "zxswhy-RMVMa"
      },
      "outputs": [],
      "source": [
        "k.find('u')"
      ]
    },
    {
      "cell_type": "code",
      "execution_count": null,
      "metadata": {
        "id": "lMhHd6lFMVMa"
      },
      "outputs": [],
      "source": [
        "#ajusta a string a um tamanho mínimo, \n",
        "#acrescentando espaços a direita se necessário\n",
        "p='Python'\n",
        "len(p)\n"
      ]
    },
    {
      "cell_type": "code",
      "execution_count": null,
      "metadata": {
        "id": "jrgebSlxMVMa"
      },
      "outputs": [],
      "source": [
        "len(p.ljust(20))"
      ]
    },
    {
      "cell_type": "code",
      "execution_count": null,
      "metadata": {
        "id": "OQBkkyL0MVMa"
      },
      "outputs": [],
      "source": [
        "#ajusta a string a um tamanho mínimo, \n",
        "#acrescentando espaços a esquerda se necessário\n",
        "p='Python'\n",
        "len(p)\n"
      ]
    },
    {
      "cell_type": "code",
      "execution_count": null,
      "metadata": {
        "id": "4goRu6BxMVMa"
      },
      "outputs": [],
      "source": [
        "len(p.rjust(20))"
      ]
    },
    {
      "cell_type": "code",
      "execution_count": null,
      "metadata": {
        "id": "yxt5bEmxMVMb"
      },
      "outputs": [],
      "source": [
        "#ajusta a string para um tamanho mínimo, acrescentando espalos à direita e a esqueda se necessário\n",
        "p='Python'\n",
        "print(p.center(30))"
      ]
    },
    {
      "cell_type": "code",
      "execution_count": null,
      "metadata": {
        "id": "bTKwIN2-MVMb"
      },
      "outputs": [],
      "source": [
        "#remove todos os espaços em branco do lado esquedo da string\n",
        "p='      Python      '\n",
        "print(\"-\")\n",
        "print(\"-\"+p.lstrip()+\"-\")"
      ]
    },
    {
      "cell_type": "code",
      "execution_count": null,
      "metadata": {
        "id": "QqNCRSsVMVMb"
      },
      "outputs": [],
      "source": [
        "#remove todos os espaços em branco do lado direito da string\n",
        "p='      Python      '\n",
        "print(\"-\")\n",
        "print(\"-\"+p.rstrip()+\"-\")"
      ]
    },
    {
      "cell_type": "code",
      "execution_count": null,
      "metadata": {
        "id": "wUf53jcTMVMb"
      },
      "outputs": [],
      "source": [
        "#remove todos os espaços em branco  da string\n",
        "p='      Python      '\n",
        "print(\"-\")\n",
        "print(\"-\"+p.strip()+\"-\")"
      ]
    },
    {
      "cell_type": "markdown",
      "metadata": {
        "id": "-UfNdeFTMVMb"
      },
      "source": [
        "## Formatação da Impressão\n",
        "\n",
        "Podemos usar o método .format() para adicionar objetos formatados a instruções de impressões.\n",
        "\n",
        "A maneira mais fácil de mostrar isso é através de um exemplo:"
      ]
    },
    {
      "cell_type": "code",
      "execution_count": null,
      "metadata": {
        "id": "R7yBP79QMVMc"
      },
      "outputs": [],
      "source": [
        "'Insert another string with curly brackets: {}'.format('The inserted string')"
      ]
    },
    {
      "cell_type": "markdown",
      "metadata": {
        "id": "zLYnKEw9MVMc"
      },
      "source": [
        "Se tentarmos concatenar diretamente a saida na função print() com uma variavel numérica ocasionará um erro de execução."
      ]
    },
    {
      "cell_type": "code",
      "execution_count": null,
      "metadata": {
        "id": "05yFB2PNMVMc"
      },
      "outputs": [],
      "source": [
        "salario = 10000\n",
        "print(\"O valor do salario e\"+salario)"
      ]
    },
    {
      "cell_type": "markdown",
      "metadata": {
        "id": "h9XGATFFMVMc"
      },
      "source": [
        "Através do format corrigimos esse problema."
      ]
    },
    {
      "cell_type": "code",
      "execution_count": null,
      "metadata": {
        "id": "FTl6y-yXMVMc"
      },
      "outputs": [],
      "source": [
        "salario = 10000\n",
        "print('O salario informado e de {} reais mensais'.format(salario))"
      ]
    },
    {
      "cell_type": "markdown",
      "metadata": {
        "id": "r7rmIuz5MVMc"
      },
      "source": [
        "Quanto concatenamos strings na saida do print não temos problemas."
      ]
    },
    {
      "cell_type": "code",
      "execution_count": null,
      "metadata": {
        "id": "zY6bGgP4MVMc"
      },
      "outputs": [],
      "source": [
        "texto01 = \"teste de texto\"\n",
        "texto02 = \" digitado pelo aluno\"\n",
        "print(texto01+texto02)"
      ]
    },
    {
      "cell_type": "markdown",
      "metadata": {
        "id": "cICNbGouMVMd"
      },
      "source": [
        "## Listas\n",
        "\n",
        "Anteriormente, ao discutir strings, introduzimos o conceito de sequência em Python. \n",
        "\n",
        "As listas podem ser pensadas na versão mais geral de uma sequência em Python. \n",
        "\n",
        "Ao contrário das strings, eles são mutáveis, o que significa que os elementos dentro de uma lista podem ser alterados!\n",
        "\n",
        "As listas são construídas com colchetes [] e vírgulas que separam cada elemento da lista.\n",
        "\n",
        "Lista é um conjunto sequencial de valores, onde cada valor é identificado através de um índice. O primeiro valor tem índice 0. Uma lista em Python é declarada da seguinte forma:\n",
        "\n",
        "Nome_Lista = [ valor1, valor2, ..., valorN]\n",
        "\n",
        "Uma lista pode ter valores de qualquer tipo, incluindo outras listas.\n",
        "\n",
        "Exemplo:"
      ]
    },
    {
      "cell_type": "code",
      "execution_count": null,
      "metadata": {
        "id": "nLmXuXeZMVMd"
      },
      "outputs": [],
      "source": [
        "#lista com mutlimos tipos de dados (inteiro, string, real, lista, string, dicionario)\n",
        "l = [3, 'abacate', 9.7, [1,2,3], \"Python\", (3,\"j\")]\n",
        "print(l)"
      ]
    },
    {
      "cell_type": "markdown",
      "metadata": {
        "id": "e9GEYShAMVMd"
      },
      "source": [
        "Assim como as strings, a função len() irá dizer-lhe quantos itens estão na sequência da lista."
      ]
    },
    {
      "cell_type": "code",
      "execution_count": null,
      "metadata": {
        "id": "1ogx6mDbMVMd"
      },
      "outputs": [],
      "source": [
        "len(l)"
      ]
    },
    {
      "cell_type": "markdown",
      "metadata": {
        "id": "9Ojpbo6jMVMd"
      },
      "source": [
        "## Listas - Indexação e Corte\n",
        "\n",
        "Indexar e cortar funciona exatamente como em strings. Vamos fazer uma nova lista para nos\n",
        "\n",
        "lembrar de como isso funciona:"
      ]
    },
    {
      "cell_type": "code",
      "execution_count": null,
      "metadata": {
        "id": "53EHfx8iMVMd"
      },
      "outputs": [],
      "source": [
        "#pega o terceiro elemento da lista\n",
        "print(l[2])"
      ]
    },
    {
      "cell_type": "code",
      "execution_count": null,
      "metadata": {
        "id": "9od0BqePMVMe"
      },
      "outputs": [],
      "source": [
        "#pega o quarto elemento da lista\n",
        "print(l[3])"
      ]
    },
    {
      "cell_type": "code",
      "execution_count": null,
      "metadata": {
        "id": "3q_97Z8xMVMe"
      },
      "outputs": [],
      "source": [
        "#quando o elemento da lista é uma outra lista podemos passar a posição\n",
        "#do elemento da primeira lista e da segundad lista \n",
        "#funcionando como uma matriz\n",
        "print(l[3][1])"
      ]
    },
    {
      "cell_type": "code",
      "execution_count": null,
      "metadata": {
        "id": "j3N5EDy_MVMe"
      },
      "outputs": [],
      "source": [
        "#podemos também pegar todos os elementos a  partir de um determinado indice.\n",
        "print(l[1:])"
      ]
    },
    {
      "cell_type": "code",
      "execution_count": null,
      "metadata": {
        "id": "04SQCDP7MVMe"
      },
      "outputs": [],
      "source": [
        "#podemos pegar todos elementos até um determinado indice\n",
        "print(l[:3])"
      ]
    },
    {
      "cell_type": "markdown",
      "metadata": {
        "id": "DLWb0MrJMVMe"
      },
      "source": [
        "Para alterar um elemento da lista, basta fazer uma atribuição de valor através do índice. O valor existente será substituído pelo novo valor.\n",
        "\n",
        "Exemplo:"
      ]
    },
    {
      "cell_type": "code",
      "execution_count": null,
      "metadata": {
        "id": "qz9Brgh1MVMe"
      },
      "outputs": [],
      "source": [
        "l[3] = 'morango'\n",
        "print(l)"
      ]
    },
    {
      "cell_type": "markdown",
      "metadata": {
        "id": "WJjBk3GKMVMf"
      },
      "source": [
        "A tentativa de acesso a um índice inexistente resultará em um erro !"
      ]
    },
    {
      "cell_type": "code",
      "execution_count": null,
      "metadata": {
        "id": "QW-tFBeRMVMf"
      },
      "outputs": [],
      "source": [
        "print(l[7])"
      ]
    },
    {
      "cell_type": "markdown",
      "metadata": {
        "id": "5EU9D6Z_MVMf"
      },
      "source": [
        "Podemos realizar a concatenação de listas com o \"+\", sem necessáriamente alterar os seus valores permanentemente."
      ]
    },
    {
      "cell_type": "code",
      "execution_count": null,
      "metadata": {
        "id": "oICXFBB5MVMf"
      },
      "outputs": [],
      "source": [
        "lista01 = [1,2,3,4]\n",
        "lista02 = [5,6,7,8]\n",
        "print(lista01+lista02)\n",
        "#o codigo acima apenas concatena as listas na saída do print não altera seus valores originais"
      ]
    },
    {
      "cell_type": "markdown",
      "metadata": {
        "id": "Tc-22NswMVMf"
      },
      "source": [
        "Se necessário realizar a mudança permanente basta fazer uma atribuição."
      ]
    },
    {
      "cell_type": "code",
      "execution_count": null,
      "metadata": {
        "id": "shl1tgG-MVMf"
      },
      "outputs": [],
      "source": [
        "lista03 = lista01+lista02\n",
        "print(lista03)"
      ]
    },
    {
      "cell_type": "markdown",
      "metadata": {
        "id": "FVxjxB-TMVMg"
      },
      "source": [
        "Também, como ocorre com as strings, poeemos realizar a duplicação com o simbolo de \"*\" das listas."
      ]
    },
    {
      "cell_type": "code",
      "execution_count": null,
      "metadata": {
        "id": "b7EI7t9YMVMg"
      },
      "outputs": [],
      "source": [
        "print(lista03*3)"
      ]
    },
    {
      "cell_type": "markdown",
      "metadata": {
        "id": "d0reAaZ7MVMg"
      },
      "source": [
        "## Listas - Métodos\n",
        "\n",
        "Se você está familiarizado com outra linguagem de programação, você pode começar a comprar arrays em outro idioma e listas em Python. \n",
        "\n",
        "As listas em Python, no entanto, tendem a ser mais flexíveis do que arrays em outras línguas por dois bons motivos: eles não têm\n",
        "tamanho fixo (o que significa que não precisamos especificar o tamanho de uma lista), e eles não têm restrição de tipo fixo (como já vimos acima).\n",
        "\n",
        "Vamos prosseguir e explore alguns métodos mais especiais para listas:"
      ]
    },
    {
      "cell_type": "code",
      "execution_count": null,
      "metadata": {
        "id": "N9R8it2IMVMg"
      },
      "outputs": [],
      "source": [
        "#cria lista\n",
        "l = [1,2,3]\n",
        "print(l)"
      ]
    },
    {
      "cell_type": "code",
      "execution_count": null,
      "metadata": {
        "id": "qYOArkH3MVMg"
      },
      "outputs": [],
      "source": [
        "#adiciona elemento ao final da lista\n",
        "l.append('insira-me')\n",
        "print(l)"
      ]
    },
    {
      "cell_type": "code",
      "execution_count": null,
      "metadata": {
        "id": "AE-qQAZbMVMg"
      },
      "outputs": [],
      "source": [
        "#retira elemento da lista\n",
        "#Por padrão o pop retira o último elemento da lista, \n",
        "#mas também podemos especificar qual queremos retirar\n",
        "l.pop(0)\n",
        "print(l)"
      ]
    },
    {
      "cell_type": "code",
      "execution_count": null,
      "metadata": {
        "id": "uDWoP7LUMVMh"
      },
      "outputs": [],
      "source": [
        "#retira ultimo elemento e armazena em variavel\n",
        "item_excluido = l.pop()\n",
        "print(item_excluido)"
      ]
    },
    {
      "cell_type": "code",
      "execution_count": null,
      "metadata": {
        "id": "hgwuW_bOMVMh"
      },
      "outputs": [],
      "source": [
        "#visualiza a lista\n",
        "print(l)"
      ]
    },
    {
      "cell_type": "markdown",
      "metadata": {
        "id": "5ZY3CWT0MVMh"
      },
      "source": [
        "Podemos usar o método sort e o método reverse para alterar as listas."
      ]
    },
    {
      "cell_type": "code",
      "execution_count": null,
      "metadata": {
        "id": "p1eAvtCWMVMh"
      },
      "outputs": [],
      "source": [
        "#cria a lista\n",
        "nova_lista = ['a', 'e', 'x', 'b', 'c']\n",
        "print(nova_lista)"
      ]
    },
    {
      "cell_type": "code",
      "execution_count": null,
      "metadata": {
        "id": "S9y7xGZgMVMh"
      },
      "outputs": [],
      "source": [
        "#use o reverse para reverter a ordem da lista\n",
        "#ATENÇÂO !!! Este método altera permanentemetne a ordem original da lista\n",
        "nova_lista.reverse()\n",
        "print(nova_lista)"
      ]
    },
    {
      "cell_type": "code",
      "execution_count": null,
      "metadata": {
        "id": "cV0WZLRQMVMh"
      },
      "outputs": [],
      "source": [
        "#para ordenar um alista use o sort\n",
        "nova_lista.sort()\n",
        "print(nova_lista)"
      ]
    },
    {
      "cell_type": "markdown",
      "metadata": {
        "id": "6O8w9QWFMVMi"
      },
      "source": [
        "## Listas Aninhadas\n",
        "\n",
        "Uma ótima característica das estruturas de dados do Python é que eles suportam\n",
        "aninhamento . Isso significa que podemos ter estruturas de dados dentro das estruturas de\n",
        "dados. Por exemplo: uma lista dentro de uma lista.\n",
        "\n",
        "Vamos ver como isso funciona!"
      ]
    },
    {
      "cell_type": "code",
      "execution_count": null,
      "metadata": {
        "id": "6S4cv6nPMVMi"
      },
      "outputs": [],
      "source": [
        "#vamos criar 3 listas\n",
        "list1 = [1,2,3]\n",
        "list2 = [3,4,5]\n",
        "list3 = [6,7,8]\n",
        "\n",
        "print(list1)\n",
        "print(list2)\n",
        "print(list3)\n",
        "\n"
      ]
    },
    {
      "cell_type": "code",
      "execution_count": null,
      "metadata": {
        "id": "NUztS101MVMi"
      },
      "outputs": [],
      "source": [
        "#agora vamos montar uma matriz a partir de listas aninhadas\n",
        "\n",
        "matriz = [list1,list2,list3]\n",
        "print(matriz)"
      ]
    },
    {
      "cell_type": "code",
      "execution_count": null,
      "metadata": {
        "id": "WrTfQE8mMVMi"
      },
      "outputs": [],
      "source": [
        "#para pegar o primeiro elemento da matriz (1 linha ou 1 lista aninhada)\n",
        "matriz[0]"
      ]
    },
    {
      "cell_type": "code",
      "execution_count": null,
      "metadata": {
        "id": "1xQP1w42MVMi"
      },
      "outputs": [],
      "source": [
        "#agora vamos pegar o primeiro elemento da primeira lista aninhada na matriz\n",
        "matriz[0][0]"
      ]
    },
    {
      "cell_type": "markdown",
      "metadata": {
        "id": "pF3lCM15MVMi"
      },
      "source": [
        "Outras funções para listas"
      ]
    },
    {
      "cell_type": "code",
      "execution_count": null,
      "metadata": {
        "id": "jMba5QB3MVMj"
      },
      "outputs": [],
      "source": [
        "#cria uma nova lista\n",
        "lista01 = [1,2,3,4,5,6,7,8,9]"
      ]
    },
    {
      "cell_type": "code",
      "execution_count": null,
      "metadata": {
        "id": "P_HS8TVXMVMj"
      },
      "outputs": [],
      "source": [
        "#retorna o menor valor da lista\n",
        "print(min(lista01))"
      ]
    },
    {
      "cell_type": "code",
      "execution_count": null,
      "metadata": {
        "id": "DEw4lNhPMVMj"
      },
      "outputs": [],
      "source": [
        "#retorna o maior valor da lista\n",
        "print(max(lista01))"
      ]
    },
    {
      "cell_type": "code",
      "execution_count": null,
      "metadata": {
        "id": "TM1Xl94_MVMj"
      },
      "outputs": [],
      "source": [
        "#retorna a soma dos valores da lista\n",
        "print(sum(lista01))"
      ]
    },
    {
      "cell_type": "code",
      "execution_count": null,
      "metadata": {
        "id": "gE7OxDHuMVMj"
      },
      "outputs": [],
      "source": [
        "#verifica se existe um elemento na lista\n",
        "3 in lista01"
      ]
    },
    {
      "cell_type": "markdown",
      "metadata": {
        "id": "9iJp3Q1OMVMj"
      },
      "source": [
        "## Dicionários\n",
        "\n",
        "Nós temos aprendido sobre sequências em Python, mas agora vamos mudar de engrenagem e aprender sobre mapeamentos em Python. Se você está familiarizado com outras linguagens, pode pensar nestes Dicionários como tabelas de hash.\n",
        "\n",
        "Esta seção servirá como uma breve introdução aos dicionários e consiste em:\n",
        "1.) Construindo um Dicionário\n",
        "2.) Acessando objetos de um dicionário \n",
        "3.) Dicionários de assentamento \n",
        "4.) Métodos básicos do dicionário\n",
        "\n",
        "Então, o que são os mapeamentos? \n",
        "\n",
        "Os mapeamentos são uma coleção de objetos que são armazenados por uma chave, ao contrário de uma seqüência que armazena objetos por sua posição relativa. Esta é uma distinção importante, uma vez que os mapeamentos não reterão a ordem, pois possuem objetos definidos por uma chave.\n",
        "\n",
        "Um dicionário de Python consiste em uma chave e depois em um valor associado. Esse valor\n",
        "pode ser quase qualquer objeto Python.\n",
        "\n",
        "# Construindo um Dicionário\n",
        "\n",
        "Vamos ver como podemos construir dicionários para obter uma melhor compreensão de como eles funcionam!\n"
      ]
    },
    {
      "cell_type": "code",
      "execution_count": null,
      "metadata": {
        "id": "X2nnCn2aMVMk"
      },
      "outputs": [],
      "source": [
        "# Cria um dicionário com {} e: que significa uma chave e um valor\n",
        "my_dict = {'key1':'value1','key2':'value2'}"
      ]
    },
    {
      "cell_type": "code",
      "execution_count": null,
      "metadata": {
        "id": "WQi_o_h7MVMk"
      },
      "outputs": [],
      "source": [
        "# Chamando valores pela chave\n",
        "my_dict['key2']"
      ]
    },
    {
      "cell_type": "markdown",
      "metadata": {
        "id": "CrjmmaRYMVMk"
      },
      "source": [
        "É importante notar que os dicionários são muito flexíveis com relação aos tipos de dados\n",
        "que eles podem conter. Por exemplo:"
      ]
    },
    {
      "cell_type": "code",
      "execution_count": null,
      "metadata": {
        "id": "8jMm_yrcMVMk"
      },
      "outputs": [],
      "source": [
        "my_dict = {'key1':123,'key2':[12,23,33],'key3':['item0','item1','item2']}"
      ]
    },
    {
      "cell_type": "code",
      "execution_count": null,
      "metadata": {
        "id": "p5T8BalSMVMk"
      },
      "outputs": [],
      "source": [
        "# Vamos chamar itens do dicionário\n",
        "my_dict['key3']"
      ]
    },
    {
      "cell_type": "code",
      "execution_count": null,
      "metadata": {
        "id": "nMoz52UgMVMl"
      },
      "outputs": [],
      "source": [
        "# Podemos chamar itens de uma lista presente na posição referente à chave 'key\n",
        "my_dict['key3'][0]"
      ]
    },
    {
      "cell_type": "code",
      "execution_count": null,
      "metadata": {
        "id": "wWOLb-GXMVMl"
      },
      "outputs": [],
      "source": [
        "# Podemos chamar métodos nos itens também\n",
        "my_dict['key3'][0].upper()"
      ]
    },
    {
      "cell_type": "markdown",
      "metadata": {
        "id": "f109zN03MVMl"
      },
      "source": [
        "Podemos também alterar valores através da chave."
      ]
    },
    {
      "cell_type": "code",
      "execution_count": null,
      "metadata": {
        "id": "o6yKCk9HMVMl"
      },
      "outputs": [],
      "source": [
        "my_dict['key1']"
      ]
    },
    {
      "cell_type": "code",
      "execution_count": null,
      "metadata": {
        "id": "oc2GppNLMVMm"
      },
      "outputs": [],
      "source": [
        "my_dict['key1'] = my_dict['key1'] - 123"
      ]
    },
    {
      "cell_type": "code",
      "execution_count": null,
      "metadata": {
        "id": "ExMElyIZMVMm"
      },
      "outputs": [],
      "source": [
        "my_dict['key1']"
      ]
    },
    {
      "cell_type": "markdown",
      "metadata": {
        "id": "yGZtjc6MMVMm"
      },
      "source": [
        "Uma nota rápida: o Python possui um método interno de fazer uma subtração ou adição\n",
        "automática (ou multiplicação ou divisão). Poderíamos ter usado += ou -= para a atribuição.\n",
        "Por exemplo:"
      ]
    },
    {
      "cell_type": "code",
      "execution_count": null,
      "metadata": {
        "id": "AfztopsYMVMm"
      },
      "outputs": [],
      "source": [
        "# Define o objeto como sendo ele mesmo menos 123\n",
        "my_dict['key1'] -= 123\n",
        "my_dict['key1']"
      ]
    },
    {
      "cell_type": "markdown",
      "metadata": {
        "id": "Hi72zj3HMVMm"
      },
      "source": [
        "Também podemos criar chaves por atribuição. Por exemplo, se começássemos com um\n",
        "dicionário vazio, poderíamos adicionar-lhe continuamente:"
      ]
    },
    {
      "cell_type": "code",
      "execution_count": null,
      "metadata": {
        "id": "Qv6EDvZoMVMn"
      },
      "outputs": [],
      "source": [
        "# Cria um novo dicionário\n",
        "d = {}"
      ]
    },
    {
      "cell_type": "code",
      "execution_count": null,
      "metadata": {
        "id": "TsnrBUKIMVMn"
      },
      "outputs": [],
      "source": [
        "# Cria uma chave por associoação\n",
        "d['animal'] = 'Dog'"
      ]
    },
    {
      "cell_type": "code",
      "execution_count": null,
      "metadata": {
        "id": "L1rqBUPtMVMn"
      },
      "outputs": [],
      "source": [
        "# Pode fazer isso com qualquer objeto\n",
        "d['answer'] = 42"
      ]
    },
    {
      "cell_type": "code",
      "execution_count": null,
      "metadata": {
        "id": "4vg368-YMVMo"
      },
      "outputs": [],
      "source": [
        "print(d)"
      ]
    },
    {
      "cell_type": "markdown",
      "metadata": {
        "id": "2lJDJR-FMVMo"
      },
      "source": [
        "### Aninhamento de Dicionários\n",
        "\n",
        "Espero que você esteja começando a ver o quão poderoso Python é com sua flexibilidade de\n",
        "objetos de nidificação e métodos dos mesmos. Vamos ver um dicionário aninhado dentro de\n",
        "um dicionário:"
      ]
    },
    {
      "cell_type": "code",
      "execution_count": null,
      "metadata": {
        "id": "QX4UizpGMVMo"
      },
      "outputs": [],
      "source": [
        "d = {'key1':{'nestkey':{'subnestkey':'value'}}}"
      ]
    },
    {
      "cell_type": "code",
      "execution_count": null,
      "metadata": {
        "id": "foAmVw1NMVMp"
      },
      "outputs": [],
      "source": [
        "# Continue chamando as chaves...\n",
        "d['key1']['nestkey']['subnestkey']"
      ]
    },
    {
      "cell_type": "markdown",
      "metadata": {
        "id": "qgXWV-8NMVMp"
      },
      "source": [
        "### Alguns métodos de dicionários\n",
        "\n",
        "Existem alguns métodos que podemos chamar em um dicionário. Vamos começar uma breve\n",
        "introdução a alguns deles:"
      ]
    },
    {
      "cell_type": "code",
      "execution_count": null,
      "metadata": {
        "id": "Rln_SJE6MVMq"
      },
      "outputs": [],
      "source": [
        "# Cria um dicionário típico\n",
        "d = {'key1':1,'key2':2,'key3':3}"
      ]
    },
    {
      "cell_type": "code",
      "execution_count": null,
      "metadata": {
        "id": "4350nr8uMVMq"
      },
      "outputs": [],
      "source": [
        "# Retorna uma lista de todas as chaves\n",
        "d.keys()"
      ]
    },
    {
      "cell_type": "code",
      "execution_count": null,
      "metadata": {
        "id": "aitxIh8GMVMq"
      },
      "outputs": [],
      "source": [
        "# Pega todos os valores\n",
        "d.values()"
      ]
    },
    {
      "cell_type": "code",
      "execution_count": null,
      "metadata": {
        "id": "xhgjwizPMVMq"
      },
      "outputs": [],
      "source": [
        "# Método para retornar as tuplas de todos os itens (aprenderemos sobre as tup\n",
        "d.items()"
      ]
    },
    {
      "cell_type": "markdown",
      "metadata": {
        "id": "5HNEcXGNMVMq"
      },
      "source": [
        "Espero que você tenha agora um bom entendimento básico para a construção de\n",
        "dicionários. Há muito mais para explorar aqui, mas vamos revisar os dicionários mais tarde.\n",
        "Depois desta seção, tudo o que você precisa saber é como criar um dicionário e como\n",
        "recuperar seus valores."
      ]
    },
    {
      "cell_type": "markdown",
      "metadata": {
        "id": "aAwZpvfNMVMr"
      },
      "source": [
        "## Tuplas\n",
        "\n",
        "Em Python, as tuplas são muito semelhantes às listas, no entanto, ao contrário das listas, elas são imutáveis, o que significa que elas não podem ser alteradas. Você usaria tuplas para\n",
        "apresentar coisas que não deveriam ser alteradas, como dias da semana ou datas em um calendário.\n",
        "\n",
        "Nesta seção, obteremos uma breve visão geral do seguinte:\n",
        "1.) Construindo Tuplas \n",
        "2.) Métodos básicos das Tuplas \n",
        "3.) Imutabilidade \n",
        "4.) Quando usar Tuplas\n",
        "\n",
        "Você terá uma intuição de como usar tuplas com base no que você aprendeu sobre as listas.\n",
        "Nós podemos tratá-los de forma muito semelhante, com a maior distinção é que as tuplas são imutáveis.\n",
        "\n",
        "### Construindo Tuplas\n",
        "\n",
        "A construção de tuplas usa () com elementos separados por vírgulas. Por exemplo:"
      ]
    },
    {
      "cell_type": "code",
      "execution_count": null,
      "metadata": {
        "id": "h_h9He72MVMr"
      },
      "outputs": [],
      "source": [
        "# Pode-se criar uma tupla com múltiplos elementos\n",
        "t = (1,2,3)"
      ]
    },
    {
      "cell_type": "code",
      "execution_count": null,
      "metadata": {
        "id": "4d5nUAigMVMr"
      },
      "outputs": [],
      "source": [
        "# O método len() funciona também para tuplas\n",
        "len(t)"
      ]
    },
    {
      "cell_type": "code",
      "execution_count": null,
      "metadata": {
        "id": "opNxOuj0MVMr"
      },
      "outputs": [],
      "source": [
        "# Você também pode variar os tipos de dados\n",
        "t = ('one',2)\n",
        "# Mostra\n",
        "t"
      ]
    },
    {
      "cell_type": "code",
      "execution_count": null,
      "metadata": {
        "id": "-_9hICBRMVMr"
      },
      "outputs": [],
      "source": [
        "# E a indexação funciona exatamente como nas listas\n",
        "t[0]"
      ]
    },
    {
      "cell_type": "code",
      "execution_count": null,
      "metadata": {
        "id": "h4PqNFCKMVMr"
      },
      "outputs": [],
      "source": [
        "# Corte de dados também...\n",
        "t[-1]"
      ]
    },
    {
      "cell_type": "markdown",
      "metadata": {
        "id": "y4CkiKRgMVMr"
      },
      "source": [
        "### Métodos básicos da Tupla\n",
        "\n",
        "As tuplas têm métodos internos, mas não tantas quanto listas. Vamos ver dois deles:"
      ]
    },
    {
      "cell_type": "code",
      "execution_count": null,
      "metadata": {
        "id": "5yr4ssUJMVMs"
      },
      "outputs": [],
      "source": [
        "# Use .index com o valor de parâmetro para retornar o índice do mesmo\n",
        "t.index('one')"
      ]
    },
    {
      "cell_type": "code",
      "execution_count": null,
      "metadata": {
        "id": "9K35QPLvMVMs"
      },
      "outputs": [],
      "source": [
        "# Use .count() para saber quantas vezes determinado elemento apareceu na tupla\n",
        "t.count('one')"
      ]
    },
    {
      "cell_type": "markdown",
      "metadata": {
        "id": "sbTolq__MVMs"
      },
      "source": [
        "### Tuplas - Imutabilidade\n",
        "\n",
        "Como mencionado anteriormente, tuplas são imutáveis:"
      ]
    },
    {
      "cell_type": "code",
      "execution_count": null,
      "metadata": {
        "id": "EL_VzbN5MVMs"
      },
      "outputs": [],
      "source": [
        "t[0]= 'change'"
      ]
    },
    {
      "cell_type": "code",
      "execution_count": null,
      "metadata": {
        "id": "4YlsG1CNMVMs"
      },
      "outputs": [],
      "source": [
        "t.append('nope')"
      ]
    },
    {
      "cell_type": "markdown",
      "metadata": {
        "id": "yB3svbHPMVMs"
      },
      "source": [
        "### Quando usar tuplas ?\n",
        "\n",
        "Você pode estar se perguntando: \"Por que se preocupar em usar tuplas quando eles têm menos métodos disponíveis?\" Para ser honesto, as tuplas não são usadas tantas vezes como listas na programação, mas são usadas quando a imutabilidade é necessária. Se no seu programa você está passando por um objeto e precisa ter certeza de que ele não seja alterado, então a tupla se tornará sua solução. Ele fornece uma fonte conveniente de integridade de dados.\n",
        "\n",
        "Agora você pode criar e usar suas tuplas em sua programação, bem como ter uma compreensão da sua imutabilidade."
      ]
    },
    {
      "cell_type": "markdown",
      "metadata": {
        "id": "MJaf3256MVMs"
      },
      "source": [
        "## Inputs - Entrada de Dados\n",
        "\n",
        "\n",
        "O python possui uma função de captura para as entradas do usuário: a função input(). Quando essa função é chamada, o programa espera o usuário digitar alguma coisa. Quando o usuário aperta a tecla ENTER, o programa processa e imprime na tela o valor digitado em forma de String.\n",
        "\n",
        "Deste modo as entradas de dados serão sempre no formato String, como no exemplo abaixo a variavel salario e a variavel nome serão do tipo String.\n"
      ]
    },
    {
      "cell_type": "code",
      "execution_count": null,
      "metadata": {
        "id": "1EbmThZJMVMt"
      },
      "outputs": [],
      "source": [
        "salario = input(\"Entre com o seu salario:\")"
      ]
    },
    {
      "cell_type": "code",
      "execution_count": null,
      "metadata": {
        "id": "zSfS7fCGMVMt"
      },
      "outputs": [],
      "source": [
        "nome = input(\"Entre com o seu nome:\")"
      ]
    },
    {
      "cell_type": "markdown",
      "metadata": {
        "id": "dsV7LB59MVMt"
      },
      "source": [
        "Para verificarmos o tipo de dados que foi inserido nas variáveis salario e nome podemos utilizar a função type()."
      ]
    },
    {
      "cell_type": "code",
      "execution_count": null,
      "metadata": {
        "id": "YaLA0izKMVMt"
      },
      "outputs": [],
      "source": [
        "print(type(salario))\n",
        "print(type(nome))\n"
      ]
    },
    {
      "cell_type": "markdown",
      "metadata": {
        "id": "2jFDoCG8MVMt"
      },
      "source": [
        "### Conversão de tipos\n",
        "\n",
        "A função input() lê o valor digitado pelo usuário como uma string.\n",
        "\n",
        "Se o usuário digitar o número 1400 a variável salario armazenará a string 1400, podemos checar isso com a função type(), como visualizamos anteriormente.\n",
        "\n",
        "Para conseguirmos receber um valor inteiro ou decimal devemos utilizar funções de conversão: int(), float() ou complex() se por acaso utilizarmos números complexos. Podemos também fazer a conversão de númericos para string com a função str()."
      ]
    },
    {
      "cell_type": "code",
      "execution_count": null,
      "metadata": {
        "id": "0lkr665fMVMt"
      },
      "outputs": [],
      "source": [
        "salario = float(input(\"Entre com o seu salaro\"))\n",
        "print(salario)\n",
        "print(type(salario))"
      ]
    },
    {
      "cell_type": "markdown",
      "metadata": {
        "id": "tlm3sJpeMVMt"
      },
      "source": [
        "No exemplo acima a função input() receberá um valor String que será convertido para o tipo float pela função float() e armazenado na variavel salario."
      ]
    },
    {
      "cell_type": "markdown",
      "metadata": {
        "id": "Kb3XPbFOMVMu"
      },
      "source": [
        "## Sets e Boleanos\n",
        "\n",
        "Existem dois outros tipos de objeto em Python que devemos cobrir rapidamente. Conjuntos (Sets) e Boleanos."
      ]
    },
    {
      "cell_type": "markdown",
      "metadata": {
        "id": "jXYeh0hIMVMu"
      },
      "source": [
        "### Set's\n",
        "\n",
        "Os conjuntos são uma coleção não ordenada de elementos únicos. Podemos construí-los usando a função set(). Avançemos e façamos um conjunto para ver como funciona:\n",
        "\n"
      ]
    },
    {
      "cell_type": "code",
      "execution_count": null,
      "metadata": {
        "id": "tm5J_1i_MVMu"
      },
      "outputs": [],
      "source": [
        "x = set()\n",
        "print(x)"
      ]
    },
    {
      "cell_type": "code",
      "execution_count": null,
      "metadata": {
        "id": "Ybxj5DQjMVMu"
      },
      "outputs": [],
      "source": [
        "#adiciona elementos com o método add()\n",
        "x.add(1)\n",
        "print(x)"
      ]
    },
    {
      "cell_type": "markdown",
      "metadata": {
        "id": "ocbtUtcJMVMu"
      },
      "source": [
        "Observe os colchetes. Isso não indica um dicionário! Embora você possa montar analogias como um set sendo um dicionário com apenas chaves. Sabemos que um conjunto tem apenas entradas únicas. Então, o que acontece quando tentamos adicionar algo que já está em um conjunto?"
      ]
    },
    {
      "cell_type": "code",
      "execution_count": null,
      "metadata": {
        "id": "OisDMoceMVMu"
      },
      "outputs": [],
      "source": [
        "# Adiciona um elemento novo\n",
        "x.add(2)\n",
        "print(x)"
      ]
    },
    {
      "cell_type": "code",
      "execution_count": null,
      "metadata": {
        "id": "kpjWeAaCMVMu"
      },
      "outputs": [],
      "source": [
        "# Adiciona o mesmo elemento\n",
        "x.add(1)\n",
        "print(x)"
      ]
    },
    {
      "cell_type": "markdown",
      "metadata": {
        "id": "yyCzeyLbMVMv"
      },
      "source": [
        "Observe como ele não colocará mais 1 lá. Isso porque um conjunto apenas se ocupa de elementos exclusivos! Podemos transformar uma lista com múltiplos elementos repetidos para um conjunto para obter os elementos exclusivos. Por exemplo:"
      ]
    },
    {
      "cell_type": "code",
      "execution_count": null,
      "metadata": {
        "id": "sR4HeD39MVMv"
      },
      "outputs": [],
      "source": [
        "# Cria uma lista com elementos repetidos\n",
        "l = [1,1,2,2,3,4,5,6,1,1]"
      ]
    },
    {
      "cell_type": "code",
      "execution_count": null,
      "metadata": {
        "id": "KB-fgpsWMVMv"
      },
      "outputs": [],
      "source": [
        "# Transforma em um set com elementos únicos\n",
        "set(l)"
      ]
    },
    {
      "cell_type": "markdown",
      "metadata": {
        "id": "91oF9OhFMVMv"
      },
      "source": [
        "### Boleanos\n",
        "\n",
        "O Python possui também Booleanos (com True e False predefinidas que são basicamente apenas os números inteiros 1 e 0). Ele também possui um objeto reservado chamado None. \n",
        "\n",
        "Passemos por alguns exemplos rápidos de booleanos (vamos mergulhar mais profundamente neles mais tarde neste curso)."
      ]
    },
    {
      "cell_type": "code",
      "execution_count": null,
      "metadata": {
        "id": "rCppfepPMVMv"
      },
      "outputs": [],
      "source": [
        "# Define um objeto como True\n",
        "a = True\n",
        "print(a)"
      ]
    },
    {
      "cell_type": "markdown",
      "metadata": {
        "id": "O9hdQSt6MVMv"
      },
      "source": [
        "Também podemos usar operadores de comparação para criar booleanos. Examinaremos todos os operadores de comparação mais tarde no curso."
      ]
    },
    {
      "cell_type": "code",
      "execution_count": null,
      "metadata": {
        "id": "7wIKnszIMVMw"
      },
      "outputs": [],
      "source": [
        "# O output é boleano\n",
        "1 > 2"
      ]
    },
    {
      "cell_type": "markdown",
      "metadata": {
        "id": "0w6B2SMrMVMw"
      },
      "source": [
        "Nós podemos usar None como um espaço reservado para um objeto que não queremos reatribuir ainda:"
      ]
    },
    {
      "cell_type": "code",
      "execution_count": null,
      "metadata": {
        "id": "WQ4XVbDIMVMw"
      },
      "outputs": [],
      "source": [
        "b = None"
      ]
    },
    {
      "cell_type": "markdown",
      "metadata": {
        "id": "IQSCIknJMVMw"
      },
      "source": [
        "É isso aí! Agora você deve ter uma compreensão básica de objetos Python e tipos de estrutura de dados. Em seguida, vá em frente e faça o teste de avaliação!"
      ]
    },
    {
      "cell_type": "markdown",
      "metadata": {
        "id": "r-cSEsLaMVMw"
      },
      "source": [
        "## Operadores de Comparação\n",
        "\n",
        "Nesta aula estaremos aprendendo sobre Operadores de Comparação em Python. Esses operadores nos permitirão comparar variáveis e produzir um valor booleano (Verdadeiro ou\n",
        "Falso).\n",
        "\n",
        "Se você tiver alguma base em Matemática, esses operadores devem ser muito diretos.\n",
        "\n",
        "Em primeiro lugar, apresentaremos uma tabela dos operadores de comparação e depois trabalharemos com alguns exemplos:\n",
        "\n",
        "### Tabela de operações de comparação\n",
        "\n",
        "|Operador  |Descrição   |Exemplo   |\n",
        "|---|---|---|\n",
        "|==   |se os valores de dois operadores forem iguais a condição se torna verdadeira   | (1==2) não é verdade   |\n",
        "|!=   |se os valores de dois operadores não forem iguais a condição torna-se verdadeira   | (1!=2) é verdadeiro  |\n",
        "|>   |se o valor do operando esquerdo for maior que o valor do operando direito, a condição é verdadeira  | 1>2 não é verdadeiro   |\n",
        "|<   |se o valor do operando esquerdo for menor que o valor do operando direito, a condição é verdadeira   | 1<2 é verdadeiro  |\n",
        "|>=   |se o valor do operando esquerdo for maior ou igual que o valor do operando direito, a condição é verdadeira   | 1>=2 não é verdadeiro  |\n",
        "|<=   |se o valor do operando esquerdo for menor ou igual que o valor do operando direito, a condição é verdadeira   | 1<=2 é verdadeiro  |\n",
        "\n",
        "Vamos verificar alguns exemplos:"
      ]
    },
    {
      "cell_type": "code",
      "execution_count": null,
      "metadata": {
        "id": "XSmBojWRMVMw"
      },
      "outputs": [],
      "source": [
        "#igualdade\n",
        "2 == 2"
      ]
    },
    {
      "cell_type": "code",
      "execution_count": null,
      "metadata": {
        "id": "dUuAs3KQMVMw"
      },
      "outputs": [],
      "source": [
        "#igualdade\n",
        "1 == 0"
      ]
    },
    {
      "cell_type": "code",
      "execution_count": null,
      "metadata": {
        "id": "XeObqlzPMVMx"
      },
      "outputs": [],
      "source": [
        "#desigualdade\n",
        "2 != 1"
      ]
    },
    {
      "cell_type": "code",
      "execution_count": null,
      "metadata": {
        "id": "gJc2AMcsMVMx"
      },
      "outputs": [],
      "source": [
        "#desigualdade\n",
        "2 != 2"
      ]
    },
    {
      "cell_type": "code",
      "execution_count": null,
      "metadata": {
        "id": "KBsImOMXMVMx"
      },
      "outputs": [],
      "source": [
        "#maior que\n",
        "2 > 1"
      ]
    },
    {
      "cell_type": "code",
      "execution_count": null,
      "metadata": {
        "id": "RKi1exggMVMx"
      },
      "outputs": [],
      "source": [
        "#maior que\n",
        "2 > 4"
      ]
    },
    {
      "cell_type": "code",
      "execution_count": null,
      "metadata": {
        "id": "g5YVXopjMVMx"
      },
      "outputs": [],
      "source": [
        "#menor que\n",
        "2 < 4"
      ]
    },
    {
      "cell_type": "code",
      "execution_count": null,
      "metadata": {
        "id": "Q5cPW8QFMVMx"
      },
      "outputs": [],
      "source": [
        "#menor que\n",
        "2 < 1"
      ]
    },
    {
      "cell_type": "code",
      "execution_count": null,
      "metadata": {
        "id": "Cfvq2gkXMVMx"
      },
      "outputs": [],
      "source": [
        "#maior igual que\n",
        "2 >= 2"
      ]
    },
    {
      "cell_type": "code",
      "execution_count": null,
      "metadata": {
        "id": "h3w90-k_MVMy"
      },
      "outputs": [],
      "source": [
        "#maior igual que\n",
        "2 >= 1"
      ]
    },
    {
      "cell_type": "code",
      "execution_count": null,
      "metadata": {
        "id": "dqw3aoSgMVMy"
      },
      "outputs": [],
      "source": [
        "#menor igual que\n",
        "2 <= 2"
      ]
    },
    {
      "cell_type": "code",
      "execution_count": null,
      "metadata": {
        "id": "By0gtNw_MVMy"
      },
      "outputs": [],
      "source": [
        "#menor igual que\n",
        "2 <= 4"
      ]
    },
    {
      "cell_type": "markdown",
      "metadata": {
        "id": "DtnklFW5MVMy"
      },
      "source": [
        "## Operadores de Comparação em cadeia\n",
        "\n",
        "Uma característica interessante do Python é a capacidade de encadear comparações múltiplas para realizar um teste mais complexo. Você pode usar essas comparações em cadeia como uma abreviatura para expressões booleanas maiores. Nesta etapa, aprenderemos como encadear operadores de comparação e também apresentamos duas outras declarações importantes em python: and e or.\n",
        "\n",
        "### Tabela de operações de lógicos\n",
        "\n",
        "|Operador  |Descrição   |Exemplo   |\n",
        "|---|---|---|\n",
        "|not   | não   | not (a = 5)   |\n",
        "|and   | e   | (a <= 10) and (c = 5)  |\n",
        "|or | ou  | (a <= 10) or (c = 5)   |\n",
        "\n",
        "Vamos verificar alguns exemplos:\n",
        "\n",
        "No exemplo abaixo verifica-se se 1 é inferior a 2 e se 2 é inferior a 3. Poderiamos ter escrito utilizando a instrução \"and\" no python."
      ]
    },
    {
      "cell_type": "code",
      "execution_count": null,
      "metadata": {
        "id": "cUwHr6tPMVMy"
      },
      "outputs": [],
      "source": [
        "#exemplo de cadeia de comparação\n",
        "1 < 2 < 3"
      ]
    },
    {
      "cell_type": "code",
      "execution_count": null,
      "metadata": {
        "id": "EaTulatLMVMy"
      },
      "outputs": [],
      "source": [
        "#mesmo exemplo utilizando o \"and\"\n",
        "(1<2) and (2<3)"
      ]
    },
    {
      "cell_type": "markdown",
      "metadata": {
        "id": "gq4WAS7jMVMy"
      },
      "source": [
        "O and é usado para garantir que as duas verificações tenham que ser verdadeiras para que a verificação total seja verdadeira. Vamos ver outro exemplo:"
      ]
    },
    {
      "cell_type": "code",
      "execution_count": null,
      "metadata": {
        "id": "WhG4o0ycMVMz"
      },
      "outputs": [],
      "source": [
        "1 < 3 > 2"
      ]
    },
    {
      "cell_type": "markdown",
      "metadata": {
        "id": "niiADWreMVMz"
      },
      "source": [
        "As verificações acima checam se 3 é maior do que os outros números. Você pode usar \"and\" para reescrevê-lo como:"
      ]
    },
    {
      "cell_type": "code",
      "execution_count": null,
      "metadata": {
        "id": "AYDW9sZaMVMz"
      },
      "outputs": [],
      "source": [
        "1<3 and 3>2"
      ]
    },
    {
      "cell_type": "markdown",
      "metadata": {
        "id": "2GOoNfx1MVMz"
      },
      "source": [
        "É importante notar que o Python está verificando ambas as instâncias das comparações. Nós também podemos usar \"or\" para escrever comparações em Python. Por exemplo:"
      ]
    },
    {
      "cell_type": "code",
      "execution_count": null,
      "metadata": {
        "id": "xiC9OYKiMVMz"
      },
      "outputs": [],
      "source": [
        "1==2 or 2<3"
      ]
    },
    {
      "cell_type": "markdown",
      "metadata": {
        "id": "VeO0I-ySMVMz"
      },
      "source": [
        "Observe como a expressão retornou True porque com o operador ou precisamos apenas um ou os outros dois sejam verdadeiros. Outro exemplo:"
      ]
    },
    {
      "cell_type": "code",
      "execution_count": null,
      "metadata": {
        "id": "ayCoI139MVMz"
      },
      "outputs": [],
      "source": [
        "1==1 or 100==1"
      ]
    },
    {
      "cell_type": "markdown",
      "metadata": {
        "id": "0eZ-XR9SMVMz"
      },
      "source": [
        "## If, elif e else\n",
        "\n",
        "If em Python nos permite contar ao computador para executar ações alternativas com base em um determinado conjunto de resultados. Verbalmente, podemos imaginar que estamos informando o computador:\n",
        "\n",
        "\"Ei, se isso caso acontecer, execute alguma ação\" Podemos então expandir a idéia com declarações elif e else, o que nos permite contar ao computador:\n",
        "\n",
        "\"Ei, se esse caso acontecer, execute alguma ação. Caso contrário, se aquilo dali acontecer, execute alguma outra ação. Caso contrário, nenhum dos casos acima aconteceu, execute esta ação\" \n",
        "\n",
        "Avançemos e vejamos o formato de sintaxe para as instruções if para ter uma idéia melhor disso:\n",
        "\n",
        "if case1: executar ação1 elif case2: execute ação2 else: execute a ação 3\n",
        "\n",
        "### Primeiro exemplo\n",
        "\n",
        "Vamos ver um exemplo rápido disso:"
      ]
    },
    {
      "cell_type": "code",
      "execution_count": null,
      "metadata": {
        "id": "aDKEN8hUMVM0"
      },
      "outputs": [],
      "source": [
        "if True:\n",
        "    print('It was true!')"
      ]
    },
    {
      "cell_type": "markdown",
      "metadata": {
        "id": "naClcwPUMVM0"
      },
      "source": [
        "Vamos adicionar outra lógica!"
      ]
    },
    {
      "cell_type": "code",
      "execution_count": null,
      "metadata": {
        "id": "HP1G0oNIMVM0"
      },
      "outputs": [],
      "source": [
        "x = False\n",
        "if x:\n",
        "    print('x was True!')\n",
        "else:\n",
        "    print('I will be printed in any case where x is not true')"
      ]
    },
    {
      "cell_type": "markdown",
      "metadata": {
        "id": "giQ-XmuxMVM0"
      },
      "source": [
        "### Múltiplos ramos\n",
        "\n",
        "Vamos ver de forma mais completa de quão longe if, elif, e else podem nos levar! Nós escrevemos isso em uma estrutura aninhada. Tome nota de como o if, elif e else se alinham no código. Isso pode ajudá-lo a ver o que se relaciona com o elif ou outras afirmações. Vamos reintroduzir uma sintaxe de comparação para o Python."
      ]
    },
    {
      "cell_type": "code",
      "execution_count": null,
      "metadata": {
        "id": "gK1hv6doMVM0"
      },
      "outputs": [],
      "source": [
        "loc = 'Bank'\n",
        "if loc == 'Auto Shop':\n",
        "    print('Welcome to the Auto Shop!')\n",
        "elif loc == 'Bank':\n",
        "    print('Welcome to the bank!')\n",
        "else:\n",
        "    print(\"Where are you?\")"
      ]
    },
    {
      "cell_type": "markdown",
      "metadata": {
        "id": "TISQJtViMVM0"
      },
      "source": [
        "Observe como as declarações if aninhadas são verificadas até que um booleano True faça com que o código aninhado abaixo seja executado. Você também deve notar que você pode colocar as declarações elif quanto desejar antes de fechar com outra. Vamos criar dois exemplos mais simples para as afirmações if, elif e else:"
      ]
    },
    {
      "cell_type": "code",
      "execution_count": null,
      "metadata": {
        "id": "pFou21QzMVM0"
      },
      "outputs": [],
      "source": [
        "person = 'Sammy'\n",
        "if person == 'Sammy':\n",
        "    print('Welcome Sammy!')\n",
        "else:\n",
        "    print(\"Welcome, what's your name?\")"
      ]
    },
    {
      "cell_type": "code",
      "execution_count": null,
      "metadata": {
        "id": "PIlpti6qMVM1"
      },
      "outputs": [],
      "source": [
        "person = 'George'\n",
        "if person == 'Sammy':\n",
        "    print('Welcome Sammy!')\n",
        "elif person =='George':\n",
        "    print(\"Welcome George!\")\n",
        "else:\n",
        "    print(\"Welcome, what's your name?\")"
      ]
    },
    {
      "cell_type": "markdown",
      "metadata": {
        "id": "PsF1ePw6MVM1"
      },
      "source": [
        "### Indentação - Novamente!!\n",
        "\n",
        "É importante manter uma boa compreensão de como o recuo funciona no Python para manter a estrutura e a ordem do seu código. Vamos voltar a tocar neste tópico quando começarmos a criar funções!"
      ]
    },
    {
      "cell_type": "markdown",
      "metadata": {
        "id": "2VahJPKyMVM1"
      },
      "source": [
        "## Função Range()\n",
        "\n",
        "Nesta aula curta estaremos discutindo a função range(). Ainda não desenvolvemos um nível muito profundo de conhecimento de funções, mas podemos entender o básico desta função simples (mas extremamente útil!). \n",
        "\n",
        "A função range() nos permite criar uma lista de números que variam de um ponto de partida até um ponto final. Também podemos especificar o tamanho do passo. Vamos percorrer alguns exemplos:"
      ]
    },
    {
      "cell_type": "code",
      "execution_count": null,
      "metadata": {
        "id": "nZTJaBsSMVM5"
      },
      "outputs": [],
      "source": [
        "range(0,10)"
      ]
    },
    {
      "cell_type": "code",
      "execution_count": null,
      "metadata": {
        "id": "ryEdY0R9MVM6"
      },
      "outputs": [],
      "source": [
        "x =range(0,10)\n",
        "type(x)"
      ]
    },
    {
      "cell_type": "code",
      "execution_count": null,
      "metadata": {
        "id": "4hA5AVdyMVM6"
      },
      "outputs": [],
      "source": [
        "inicio_range = 0 #valor padrão de inicio de um range\n",
        "final_range = 20\n",
        "x = range(inicio_range,final_range)"
      ]
    },
    {
      "cell_type": "code",
      "execution_count": null,
      "metadata": {
        "id": "T1dgI39NMVM6"
      },
      "outputs": [],
      "source": [
        "# transformando um range em uma lista para exibição dos valores gerados\n",
        "list(x)"
      ]
    },
    {
      "cell_type": "markdown",
      "metadata": {
        "id": "NNGzqm9KMVM6"
      },
      "source": [
        "Ótimo! Observe como foi até 20, mas na verdade não produz 20. Assim como na indexação.\n",
        "\n",
        "E o tamanho do passo? Podemos especificar isso como um terceiro argumento:"
      ]
    },
    {
      "cell_type": "code",
      "execution_count": null,
      "metadata": {
        "id": "XeiZWz9SMVM6"
      },
      "outputs": [],
      "source": [
        "#gera um range que inicia no valor de inicio_range e finaliza no valor da variavel final_range contando de 2 em 2\n",
        "x = range(inicio_range,final_range,2)\n",
        "# Mostrar\n",
        "x"
      ]
    },
    {
      "cell_type": "markdown",
      "metadata": {
        "id": "ESSPXIpEMVM7"
      },
      "source": [
        "Impressionante! Bem, é isso ... ou não?\n",
        "\n",
        "Você pode estar se perguntando, o que acontece se eu quiser usar uma grande variedade de números? O meu computador pode armazenar tudo na memória?\n",
        "\n",
        "Grande pensamento! Este é um dilema que pode ser resolvido com o uso de um gerador. Para uma explicação simplificada: um gerador permite a geração de objetos gerados que são fornecidos naquela instância, mas não armazena cada instância gerada na memória.Isso significa que um gerador não criaria uma lista ao gerar um range(), mas, em vez disso, fornece uma geração única dos números nesse intervalo. A boa notítica é que range() se comporta como um gerador e você não precisa se preocupar com isso."
      ]
    },
    {
      "cell_type": "markdown",
      "metadata": {
        "id": "qNSezMe5MVM7"
      },
      "source": [
        "## Laços\n",
        "\n",
        "### For\n",
        "\n",
        "Um loop for atua como um iterador em Python, ele passa por itens que estão em uma sequência ou qualquer outro item iterável. Os objetos que aprendemos até agora que podemos iterar incluem strings, listas, tuplas e até iteráveis embutidos em dicionários, como chaves ou valores.\n",
        "\n",
        "Já vimos for um pouco nas palestras passadas, mas agora permitimos formalizar a nossa\n",
        "compreensão. Aqui está o formato geral para um for loop em Python:\n",
        "\n",
        "for item in objeto: fazer algo\n",
        "\n",
        "O nome da variável usado para o item fica a seu critério, você pode escolher o que quiser. Então use seu melhor julgamento para escolher um nome que faça sentido e que você poderá entender ao revisar seu código. Este nome do item pode então ser referenciado dentro de seu loop, por exemplo, se você quisesse usar instruções if para executar verificações.\n",
        "\n",
        "Vamos seguir em frente e trabalhar com vários exemplos de for loops usando uma variedade de tipos de objetos de dados. Vamos começar com um exemplo simples e adicionar mais complexidade mais além.\n",
        "\n",
        "Exemplo 1\n",
        "Iterando através de uma lista."
      ]
    },
    {
      "cell_type": "code",
      "execution_count": null,
      "metadata": {
        "id": "IUchal2NMVM7"
      },
      "outputs": [],
      "source": [
        "#dado uma lista\n",
        "l = [1,2,3,4,5,6,7,8,9,10]\n",
        "#percorra a lista com um for\n",
        "for num in l:\n",
        "    print(num)"
      ]
    },
    {
      "cell_type": "markdown",
      "metadata": {
        "id": "VmaccK8vMVM7"
      },
      "source": [
        "Agora vamos substituir a lista por um range, lembrando que a função range gera uma faixa de valores."
      ]
    },
    {
      "cell_type": "code",
      "execution_count": null,
      "metadata": {
        "id": "B5OJak6KMVM7"
      },
      "outputs": [],
      "source": [
        "#percorra a range com um for, para gerarmos a mesma saída do exemplo anterior temos que nos lembrar que a faixa final do range não está inclusa na contagem.\n",
        "for num in range(1,11):\n",
        "    print(num)"
      ]
    },
    {
      "cell_type": "markdown",
      "metadata": {
        "id": "wjqusjRUMVM7"
      },
      "source": [
        "Agora vamos combinar com a função if para verificar os números pares em uma sequência.\n",
        "\n",
        "Para isso devemos calcular o módulo (resto da divisão), veja o exemplo:"
      ]
    },
    {
      "cell_type": "code",
      "execution_count": null,
      "metadata": {
        "id": "LaeK2QpbMVM7"
      },
      "outputs": [],
      "source": [
        "17 % 3 #número impar temos resto"
      ]
    },
    {
      "cell_type": "code",
      "execution_count": null,
      "metadata": {
        "id": "sTz-7EsSMVM8"
      },
      "outputs": [],
      "source": [
        "12 % 4 #número par sem resto na divisão"
      ]
    },
    {
      "cell_type": "markdown",
      "metadata": {
        "id": "SHVAe92LMVM8"
      },
      "source": [
        "Observe que se um número é totalmente divisível sem restante, o resultado do módulo é 0. Podemos usar isso para testar números pares, pois se um número nódulo 2 for igual a 0, isso significa que é um número par! Volte para o for!\n",
        "\n",
        "Então vamos imprimir apenas os números pares de uma sequência."
      ]
    },
    {
      "cell_type": "code",
      "execution_count": null,
      "metadata": {
        "id": "kyIZPpWgMVM8"
      },
      "outputs": [],
      "source": [
        "#imprimindo os números pares de uma sequencia.\n",
        "for num in range(1,21):\n",
        "    if num%2 == 0:\n",
        "        print(num)"
      ]
    },
    {
      "cell_type": "code",
      "execution_count": null,
      "metadata": {
        "id": "AVZEi9gdMVM8"
      },
      "outputs": [],
      "source": [
        "#podemos também utilizar o elif\n",
        "for num in range(1,21):\n",
        "    if num%2 == 0:\n",
        "        print(\"Par : {}\".format(num))\n",
        "    else:\n",
        "        print(\"Impar : {}\".format(num))\n"
      ]
    },
    {
      "cell_type": "markdown",
      "metadata": {
        "id": "OtyeBZ32MVM8"
      },
      "source": [
        "Outra idéia comum durante um for é manter algum tipo de contagem durante os vários loops. Por exemplo, vamos criar um loop for que resume a lista:"
      ]
    },
    {
      "cell_type": "code",
      "execution_count": null,
      "metadata": {
        "id": "jnnDOPIzMVM8"
      },
      "outputs": [],
      "source": [
        "range_sum = 0\n",
        "for num in range(1,21):\n",
        "    range_sum = range_sum + num\n",
        "print(\"soma --> {}\".format(range_sum))"
      ]
    },
    {
      "cell_type": "markdown",
      "metadata": {
        "id": "_1_rKKXHMVM8"
      },
      "source": [
        "A acumulação dos valores também pode ser realizada utilizando o operador \"+=\""
      ]
    },
    {
      "cell_type": "code",
      "execution_count": null,
      "metadata": {
        "id": "0I2-s7BOMVM8"
      },
      "outputs": [],
      "source": [
        "range_sum = 0\n",
        "for num in range(1,21):\n",
        "    range_sum += num #observe a diferença nesta linha em relação ao ex. anterior\n",
        "print(\"soma --> {}\".format(range_sum))"
      ]
    },
    {
      "cell_type": "markdown",
      "metadata": {
        "id": "lGKeYqhNMVM9"
      },
      "source": [
        "Nós usamos para loops com listas, e as strings? Lembre-se de que as strings são uma seqüência, então, quando iteramos através delas, estaremos acessando cada item nessa seqüência de caracteres."
      ]
    },
    {
      "cell_type": "code",
      "execution_count": null,
      "metadata": {
        "id": "wPyARVGIMVM9"
      },
      "outputs": [],
      "source": [
        "for letter in 'This is a string.':\n",
        "    print(letter)"
      ]
    },
    {
      "cell_type": "markdown",
      "metadata": {
        "id": "srOrjUm5MVM9"
      },
      "source": [
        "E as tuplas?"
      ]
    },
    {
      "cell_type": "code",
      "execution_count": null,
      "metadata": {
        "id": "4qFqhsRdMVM9"
      },
      "outputs": [],
      "source": [
        "tup = (1,2,3,4,5)\n",
        "for t in tup:\n",
        "    print(t)"
      ]
    },
    {
      "cell_type": "markdown",
      "metadata": {
        "id": "6NGWzzDRMVM9"
      },
      "source": [
        "As Tuplas têm uma qualidade especial quando se trata de fors. Se você está iterando através de uma seqüência que contém tuplas, o item pode realmente ser a própria tupla, este é um exemplo de desembalagem de tuplas . Durante o for, estaremos desembalando a tupla dentro de uma seqüência e podemos acessar os itens individuais dentro dessa tupla!"
      ]
    },
    {
      "cell_type": "code",
      "execution_count": null,
      "metadata": {
        "id": "XYq1KVN0MVM9"
      },
      "outputs": [],
      "source": [
        "l = [(2,4),(6,8),(10,12)]\n",
        "for tup in l:\n",
        "    print(tup)"
      ]
    },
    {
      "cell_type": "code",
      "execution_count": null,
      "metadata": {
        "id": "8JsFpDdJMVM9"
      },
      "outputs": [],
      "source": [
        "for (t1,t2) in l:\n",
        "    print(t1)\n",
        "    "
      ]
    },
    {
      "cell_type": "markdown",
      "metadata": {
        "id": "eyt329-BMVM-"
      },
      "source": [
        "Legal! Com as tuplas em uma seqüência, podemos acessar os itens dentro deles por meio de desembalagem! A razão pela qual isso é importante é porque muitos objetos entregarão seus iterables através de tuplas. Vamos começar a explorar a iteração através de Dictionaries para explorar isso ainda mais!"
      ]
    },
    {
      "cell_type": "code",
      "execution_count": null,
      "metadata": {
        "id": "VSYIbzpnMVM-"
      },
      "outputs": [],
      "source": [
        "#dado o dicionario d\n",
        "d = {'k1':1,'k2':2,'k3':3}\n",
        "\n",
        "#percorrendo os itens\n",
        "for item in d:\n",
        "    print(item)"
      ]
    },
    {
      "cell_type": "markdown",
      "metadata": {
        "id": "qQJd8P19MVM-"
      },
      "source": [
        "Observe como isso produz apenas chaves. Então, como podemos obter os valores? Ou as chaves e os valores?\n",
        "\n",
        "#### Itens() \n",
        "\n",
        "Você deve usar \".items()\" para iterar através das chaves e valores de um dicionário. Por exemplo:\n"
      ]
    },
    {
      "cell_type": "code",
      "execution_count": null,
      "metadata": {
        "id": "ieHs_vWjMVM-"
      },
      "outputs": [],
      "source": [
        "# For Python 3\n",
        "for k,v in d.items():\n",
        "    print(k)\n",
        "    print(v)"
      ]
    },
    {
      "cell_type": "markdown",
      "metadata": {
        "id": "8Akl-QpuMVM-"
      },
      "source": [
        "Aprendemos a usar para loops para iterar através de tuplas, listas, strings e dicionários. Será uma ferramenta importante para nós, portanto, certifique-se de conhecê-lo bem e compreende os exemplos acima.\n",
        "\n",
        "## While\n",
        "\n",
        "A instrução while em Python é uma das formas mais gerais de executar iterações. Uma instrução while executará repetidamente uma única declaração ou grupo de instruções, desde que a condição seja verdadeira. A razão pela qual é chamado de \"loop\" é porque as instruções de código são roteadas repetidamente até que a condição não seja mais atendida.\n",
        "\n",
        "O formato geral de um loop while é: \n",
        "\n",
        "while teste: declaração de código \n",
        "\n",
        "else: declarações de código final\n",
        "\n",
        "Olhemos alguns simples do while em ação.\n"
      ]
    },
    {
      "cell_type": "code",
      "execution_count": null,
      "metadata": {
        "id": "k-G5iBb_MVM-"
      },
      "outputs": [],
      "source": [
        "x = 0\n",
        "while x < 10:\n",
        "    print('x is currently: ', x)\n",
        "    print(' x is still less than 10, adding 1 to x')\n",
        "    x += 1"
      ]
    },
    {
      "cell_type": "markdown",
      "metadata": {
        "id": "3AG0vXGXMVM-"
      },
      "source": [
        "Observe quantas vezes as declarações de impressão ocorreram e como o while continuou até a condição True deixasse de ser verdadeira, que ocorreu após x == 10. É importante notar que, uma vez que isso ocorreu, o código parou. Vamos ver como podemos adicionar uma outra afirmação:"
      ]
    },
    {
      "cell_type": "code",
      "execution_count": null,
      "metadata": {
        "id": "1mjw-pISMVM-"
      },
      "outputs": [],
      "source": [
        "x = 0\n",
        "while x < 10:\n",
        "    print('x is currently: ',x)\n",
        "    print(' x is still less than 10, adding 1 to x')\n",
        "    x+=1\n",
        "else:\n",
        "    print('All Done!')"
      ]
    },
    {
      "cell_type": "markdown",
      "metadata": {
        "id": "uBFf0Xu2MVM_"
      },
      "source": [
        "#### break, continue, pass\n",
        "\n",
        "Podemos usar as declarações break, continue e pass em nossos loops para adicionar funcionalidades adicionais para vários casos. As três declarações são definidas por:\n",
        "\n",
        "break: Para o loop continue: Vai para o próximo loop \n",
        "\n",
        "pass: Não faz nada \n",
        "\n",
        "Pensando nas declarações break e continue, o formato geral do loop while se parece com isto:\n",
        "\n",
        "while test: código \n",
        "\n",
        "if test: break \n",
        "if test: continue else:\n",
        "\n",
        "Vamos ver alguns exemplos!"
      ]
    },
    {
      "cell_type": "code",
      "execution_count": null,
      "metadata": {
        "id": "rubMMA6bMVM_"
      },
      "outputs": [],
      "source": [
        "x = 0\n",
        "while x < 10:\n",
        "    rint('x is currently: ', x)\n",
        "    print(' x is still less than 10, adding 1 to x')\n",
        "    x+=1\n",
        "    if x==3:\n",
        "        print('x==3')\n",
        "    else:\n",
        "        print('continuing...')\n",
        "        continue"
      ]
    },
    {
      "cell_type": "markdown",
      "metadata": {
        "id": "k8U_QStdMVM_"
      },
      "source": [
        "Observe como temos uma declaração impressa quando x == 3 e continuamos imprimindo enquanto continuamos através do while. Vamos fazer uma pausa uma vez x == 3 e ver se o resultado faz sentido:"
      ]
    },
    {
      "cell_type": "code",
      "execution_count": null,
      "metadata": {
        "id": "LvfCDtu6MVM_"
      },
      "outputs": [],
      "source": [
        "x = 0\n",
        "while x < 10:\n",
        "    print('x is currently: ',x)\n",
        "    print(' x is still less than 10, adding 1 to x')\n",
        "    x+=1\n",
        "    if x ==3:\n",
        "        print('Breaking because x==3')\n",
        "        break\n",
        "    else:\n",
        "        print('continuing...')\n",
        "    continue"
      ]
    },
    {
      "cell_type": "markdown",
      "metadata": {
        "id": "pFcRi-7OMVM_"
      },
      "source": [
        "**Uma observação importante! É possível criar um ciclo de execução infinita com instruções while. Por exemplo:**\n",
        "\n",
        "**NÃO RODE O CÓDIGO ABAIXO**"
      ]
    },
    {
      "cell_type": "code",
      "execution_count": null,
      "metadata": {
        "id": "UGYEEp2JMVM_"
      },
      "outputs": [],
      "source": [
        "# NÃO RODE ESTE CÓDIGO!\n",
        "while True:\n",
        "    print('Uh Oh infinite Loop!')"
      ]
    },
    {
      "cell_type": "markdown",
      "metadata": {
        "id": "W8utdvUzMVNA"
      },
      "source": []
    }
  ],
  "metadata": {
    "kernelspec": {
      "display_name": "base",
      "language": "python",
      "name": "python3"
    },
    "language_info": {
      "codemirror_mode": {
        "name": "ipython",
        "version": 3
      },
      "file_extension": ".py",
      "mimetype": "text/x-python",
      "name": "python",
      "nbconvert_exporter": "python",
      "pygments_lexer": "ipython3",
      "version": "3.9.13"
    },
    "orig_nbformat": 4,
    "vscode": {
      "interpreter": {
        "hash": "0fda60eb319fac8ebfcb14c2fbc9a4c8b1cdf0fbb0837cf486a0f7cad639c07e"
      }
    },
    "colab": {
      "provenance": [],
      "include_colab_link": true
    }
  },
  "nbformat": 4,
  "nbformat_minor": 0
}